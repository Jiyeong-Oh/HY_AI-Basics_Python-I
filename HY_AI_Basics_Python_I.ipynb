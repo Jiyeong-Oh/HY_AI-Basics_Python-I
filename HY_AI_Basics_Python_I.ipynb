{
  "nbformat": 4,
  "nbformat_minor": 0,
  "metadata": {
    "colab": {
      "name": "HY_AI Basics_Python I.ipynb",
      "provenance": [],
      "collapsed_sections": [],
      "include_colab_link": true
    },
    "kernelspec": {
      "name": "python3",
      "display_name": "Python 3"
    }
  },
  "cells": [
    {
      "cell_type": "markdown",
      "metadata": {
        "id": "view-in-github",
        "colab_type": "text"
      },
      "source": [
        "<a href=\"https://colab.research.google.com/github/Jiyeong-Oh/HY_AI-Basics_Python-I/blob/main/HY_AI_Basics_Python_I.ipynb\" target=\"_parent\"><img src=\"https://colab.research.google.com/assets/colab-badge.svg\" alt=\"Open In Colab\"/></a>"
      ]
    },
    {
      "cell_type": "markdown",
      "metadata": {
        "id": "6wQqQJ3GbBLo"
      },
      "source": [
        "#**This is for your Final Examination of both courses titled \"AI Basics\" and \" Python I\"**#\n",
        "\n",
        "All the results (incuding the codes, your written answers, and running outcomes) should be held in the same notebook. \n",
        "\n",
        "The Name of the notebook should be your name followed by your student ID (e.g., HokyoungBlakeRyu2020890653.ipynb)\n",
        "\n",
        "##*You should submit the notebook file in your GitHub, by the due date (no later than 23rd May, 12:00pm).*##\n",
        "\n",
        "**Evaluation points:** \n",
        "\n",
        "\n",
        "1.   Quality - How much your codes are working in general circumstances (Don't do any single hot coding) \n",
        "2.   Quality - Least use the built-in functions, wherever necessary (if you want to some built-in functions (e.g., inverse function of matrix), you need to make the two versions to compare them). You will use the build-in functions in your life time, so this examination is a last change to improve your programming skills.   \n",
        "3. Quality - The logic of programming would be significantly evaluated. Don't forget computational thinking. Your thinking process and that of computers are different.  \n",
        "4. The number of coding lines are nothing important, netiher whether you  find the correct answer or not. The main point of this examination, how much you think to solve the questions at your own efforts (I can see it when I have read your codes), so simply C&P from the internet sources would automatically fail to mark (However, you can refer to the internet sources but you need to fully absorb them in your understanding before you submit). \n",
        "\n"
      ]
    },
    {
      "cell_type": "markdown",
      "metadata": {
        "id": "NsXGV32B6yHX"
      },
      "source": [
        "\n",
        "\n",
        "---\n",
        "\n"
      ]
    },
    {
      "cell_type": "markdown",
      "metadata": {
        "id": "UydSbgHwcBts"
      },
      "source": [
        "Functions are often visualized as a line or (curvature) on a graph, and this line shows how the value returned by the function changes based on changes in the input value. For example, imagine a function that returns the number of meters travelled by a cyclist based on the number of seconds that the cyclist has been cycling.\n",
        "\n",
        "Here is such a function: \n",
        "\n",
        "\\begin{equation}q(x) = 2x^{2} + 1\\end{equation} \n",
        "\n",
        "\n",
        "#1. Plot the output for this function *q(x)* for a period of 10 seconds from range (0 sec to 10 secs)# "
      ]
    },
    {
      "cell_type": "code",
      "metadata": {
        "id": "k_cKAtE8dvO_"
      },
      "source": [
        "#solution1) using dataframe \n",
        "import pandas as pd\n",
        "df=pd.DataFrame({'x':range(11)})\n",
        "df['q']=2*df['x']**2+1"
      ],
      "execution_count": null,
      "outputs": []
    },
    {
      "cell_type": "code",
      "metadata": {
        "id": "b45wuUOh6MpN",
        "outputId": "b233b4bf-1048-411b-b47d-9bf0c58f701e",
        "colab": {
          "base_uri": "https://localhost:8080/",
          "height": 279
        }
      },
      "source": [
        "%matplotlib inline\n",
        "from matplotlib import pyplot as plt\n",
        "plt.plot(df.x,df.q,color='blue')\n",
        "\n",
        "plt.xlabel('x(sec)')\n",
        "plt.ylabel('q(x) (meters)') #naming the x and y label to x and q(x) resepectively.\n",
        "plt.grid()\n",
        "\n",
        "plt.show()"
      ],
      "execution_count": null,
      "outputs": [
        {
          "output_type": "display_data",
          "data": {
            "image/png": "[encoded data removed]",
            "text/plain": [
              "<Figure size 432x288 with 1 Axes>"
            ]
          },
          "metadata": {
            "tags": [],
            "needs_background": "light"
          }
        }
      ]
    },
    {
      "cell_type": "code",
      "metadata": {
        "id": "Pu3KRF4M7d4G",
        "outputId": "23813b84-eac0-4d2d-b81e-a9e11532585c",
        "colab": {
          "base_uri": "https://localhost:8080/",
          "height": 279
        }
      },
      "source": [
        "#Solution2)\n",
        "#you can directly make a function and plot it like following:\n",
        "\n",
        "%matplotlib inline\n",
        "\n",
        "def q(x):\n",
        "  return 2*(x**2)+1\n",
        "\n",
        "from matplotlib import pyplot as plt\n",
        "\n",
        "x=list(range(11))\n",
        "y= [q(i) for i in x]\n",
        "\n",
        "plt.xlabel('x(sec)')\n",
        "plt.ylabel('q(x) (meters)')\n",
        "\n",
        "plt.plot(x,y,color='purple')\n",
        "plt.grid()\n",
        "plt.show()"
      ],
      "execution_count": null,
      "outputs": [
        {
          "output_type": "display_data",
          "data": {
            "image/png": "[encoded data removed]",
            "text/plain": [
              "<Figure size 432x288 with 1 Axes>"
            ]
          },
          "metadata": {
            "tags": [],
            "needs_background": "light"
          }
        }
      ]
    },
    {
      "cell_type": "markdown",
      "metadata": {
        "id": "O6HeizdLej-N"
      },
      "source": [
        "\n",
        "\n",
        "---\n",
        "\n"
      ]
    },
    {
      "cell_type": "markdown",
      "metadata": {
        "id": "ZsDAys8Jd02o"
      },
      "source": [
        "Velocity is a measure of change - it measures how the distance travelled changes over time. So we're looking for a way to measure the change in the line created by the function. \n",
        "\n",
        "#2. Calculate the velocity (2-1) between 1 sec to 2 secs, and (2-2) 5 secs and 7 secs. "
      ]
    },
    {
      "cell_type": "markdown",
      "metadata": {
        "id": "QasyFe1ErZI8"
      },
      "source": [
        "\n",
        "\n",
        "---\n",
        "\n"
      ]
    },
    {
      "cell_type": "code",
      "metadata": {
        "id": "p4pHDwLIehZL",
        "outputId": "346010a1-59ba-422e-c6f4-612693fefac2",
        "colab": {
          "base_uri": "https://localhost:8080/",
          "height": 34
        }
      },
      "source": [
        "#Your code of (2-1) should appear here, followed by the answer \n",
        "%matplotlib inline\n",
        "\n",
        "def q(x):\n",
        "  return 2*(x**2)+1\n",
        "\n",
        "def velocity(starting_point,arriving_point):\n",
        "  distance=q(arriving_point)-q(starting_point)\n",
        "  time_change=arriving_point-starting_point\n",
        "  return distance/time_change\n",
        "\n",
        "starting_point=1\n",
        "arriving_point=2\n",
        "\n",
        "print('The velocity between',starting_point, 'and', arriving_point,'is', velocity(starting_point,arriving_point))"
      ],
      "execution_count": null,
      "outputs": [
        {
          "output_type": "stream",
          "text": [
            "The velocity between 1 and 2 is 6.0\n"
          ],
          "name": "stdout"
        }
      ]
    },
    {
      "cell_type": "markdown",
      "metadata": {
        "id": "nmQklhoKrcDa"
      },
      "source": [
        "\n",
        "\n",
        "---\n",
        "\n"
      ]
    },
    {
      "cell_type": "code",
      "metadata": {
        "id": "xlnZFgBuerDD",
        "outputId": "70ea72a9-60c9-46a1-daec-30314c69c4d1",
        "colab": {
          "base_uri": "https://localhost:8080/",
          "height": 34
        }
      },
      "source": [
        "#Your code of (2-2) should appear here, followed by the answer \n",
        "%matplotlib inline\n",
        "\n",
        "def q(x):\n",
        "  return 2*(x**2)+1\n",
        "\n",
        "def velocity(starting_point,arriving_point):\n",
        "  distance=q(arriving_point)-q(starting_point) #the function q is defined in question number 1.(above)\n",
        "  time_change=arriving_point-starting_point\n",
        "  return distance/time_change\n",
        "\n",
        "starting_point=5\n",
        "arriving_point=7\n",
        "\n",
        "print('The velocity between',starting_point, 'and', arriving_point,'is', velocity(starting_point,arriving_point))"
      ],
      "execution_count": null,
      "outputs": [
        {
          "output_type": "stream",
          "text": [
            "The velocity between 5 and 7 is 24.0\n"
          ],
          "name": "stdout"
        }
      ]
    },
    {
      "cell_type": "markdown",
      "metadata": {
        "id": "vtiHo6pZet7a"
      },
      "source": [
        "\n",
        "\n",
        "---\n",
        "\n"
      ]
    },
    {
      "cell_type": "markdown",
      "metadata": {
        "id": "AAdbeVTPdtyl"
      },
      "source": [
        "In differentiation, we need to use our knowledge of limits to calculate the derivative of a function in order to determine the rate of change at an individual point on a line. Here is our function: \n",
        "\n",
        "\\begin{equation}q(x) = 2x^{2} + 1\\end{equation} \n"
      ]
    },
    {
      "cell_type": "code",
      "metadata": {
        "id": "nvRtRl9Lf4Cx"
      },
      "source": [
        "#running the following code \n",
        "\n",
        "%matplotlib inline\n",
        "\n",
        "# Here's the function\n",
        "def f(x):\n",
        "    return 2*x**2 + 1 \n"
      ],
      "execution_count": null,
      "outputs": []
    },
    {
      "cell_type": "markdown",
      "metadata": {
        "id": "SDspFCiPf_GK"
      },
      "source": [
        "The average rate of change for the interval between x=4 and x=6 is **20**. "
      ]
    },
    {
      "cell_type": "markdown",
      "metadata": {
        "id": "6Dn9UXe_hyWX"
      },
      "source": [
        "If the interval is decreasing the average rate of change would be also changed. \n",
        "\n",
        "#3. Write a Python program to calculate the average rate of change for the interval between x and x+h (where h gets smaller and smaller), with regard to how the average rate of change would be close to the derivative of q(x) "
      ]
    },
    {
      "cell_type": "markdown",
      "metadata": {
        "id": "LQ8CmJ0-rjOQ"
      },
      "source": [
        "\n",
        "\n",
        "---\n",
        "\n"
      ]
    },
    {
      "cell_type": "markdown",
      "metadata": {
        "id": "dPubezmYE3LI"
      },
      "source": [
        "First, the code below is the average rate of change for the interval between x and x+h, where h get smaller."
      ]
    },
    {
      "cell_type": "code",
      "metadata": {
        "id": "LKmGqeQiLBC8"
      },
      "source": [
        "#defining the function q(x)\n",
        "def q(x):\n",
        "    return 2*x**2 + 1\n",
        "\n",
        "#defining the average rate of change between x and x+h\n",
        "def average_rate_of_change(q,x,h):\n",
        "  return (q(x+h)-q(x))/(x+h-x)\n",
        "\n",
        "#defining difference function with h which get smaller\n",
        "h=2\n",
        "def difference(q,x,h):\n",
        "  for i in range(10):\n",
        "    h=h/10\n",
        "    print(average_rate_of_change(q,x,h))"
      ],
      "execution_count": null,
      "outputs": []
    },
    {
      "cell_type": "code",
      "metadata": {
        "id": "yWT_GUiBed6U",
        "outputId": "0e2b7d4d-1c8b-4f68-9cf8-7db13736a1bd",
        "colab": {
          "base_uri": "https://localhost:8080/",
          "height": 193
        }
      },
      "source": [
        "# you can now put arbitrary number in x and figure out the difference in certain point like following:\n",
        "difference(q,2,h)"
      ],
      "execution_count": null,
      "outputs": [
        {
          "output_type": "stream",
          "text": [
            "8.4\n",
            "8.039999999999996\n",
            "8.003999999999671\n",
            "8.000399999997569\n",
            "8.00004000000331\n",
            "8.000004000355602\n",
            "8.000000399680289\n",
            "8.0\n",
            "8.0\n",
            "8.0\n"
          ],
          "name": "stdout"
        }
      ]
    },
    {
      "cell_type": "code",
      "metadata": {
        "id": "o4Mg4rdxEqRR",
        "outputId": "a119c61a-d250-486d-cc85-d9ab7fb52abb",
        "colab": {
          "base_uri": "https://localhost:8080/",
          "height": 34
        }
      },
      "source": [
        "# Next, to check whether the code above is exact, the code that figures out the derivative of q(x) is following:\n",
        "from sympy import *\n",
        "\n",
        "x=Symbol('x')\n",
        "derivative_check_qx=q(x).diff(x)\n",
        "print(derivative_check_qx)"
      ],
      "execution_count": null,
      "outputs": [
        {
          "output_type": "stream",
          "text": [
            "4*x\n"
          ],
          "name": "stdout"
        }
      ]
    },
    {
      "cell_type": "code",
      "metadata": {
        "id": "Rhz5J7tsFwqa",
        "outputId": "12c1311e-97ed-42f0-ed3e-6e35acd8169a",
        "colab": {
          "base_uri": "https://localhost:8080/",
          "height": 34
        }
      },
      "source": [
        "# We already know that the derivative is 8 when we put 2 in the x, but to be accurate, I searched for a method to substitute a number into a variable(symbol).\n",
        "# The code is like following:\n",
        "print(derivative_check_qx.subs(x,2))\n",
        "#As you see, the average rate of change when the h get smaller is equivalent to the derivative at x."
      ],
      "execution_count": null,
      "outputs": [
        {
          "output_type": "stream",
          "text": [
            "8\n"
          ],
          "name": "stdout"
        }
      ]
    },
    {
      "cell_type": "markdown",
      "metadata": {
        "id": "XZ7zDc2NiwYd"
      },
      "source": [
        "\n",
        "\n",
        "---\n",
        "\n"
      ]
    },
    {
      "cell_type": "markdown",
      "metadata": {
        "id": "lWkh3UVFiyE4"
      },
      "source": [
        "The *chain rule* takes advantage of the fact that equations can be encapsulated as functions, and since functions contain equations, it's possible to nest one function within another.\n",
        "\n",
        "For example, consider the following function:\n",
        "\n",
        "\\begin{equation}u(x) = 2x^{2} \\end{equation}\n",
        "\n",
        "We could view the definition of *u(x)* as a composite of two functions,; an *inner* function that calculates x<sup>2</sup>, and an *outer* function that multiplies the result of the inner function by 2.\n",
        "\n",
        "\\begin{equation}u(x) = \\widehat{\\color{blue}2\\color{blue}(\\underline{\\color{red}x^{\\color{red}2}}\\color{blue})} \\end{equation}\n",
        "\n",
        "To make things simpler, we can name these inner and outer functions:\n",
        "\n",
        "\\begin{equation}i(x) = x^{2} \\end{equation}\n",
        "\n",
        "\\begin{equation}o(x) = 2x \\end{equation}\n",
        "\n",
        "Note that *x* indicates the input for each function. Function *i* takes its input and squares it, and function *o* takes its input and multiplies it by 2. When we use these as a composite function, the *x* value input into the outer function will be the output from the inner function.\n",
        "\n",
        "Let's take a look at how we can apply these functions to get back to our original *u* function:\n",
        "\n",
        "\\begin{equation}u(x) = o(i(x)) \\end{equation}\n",
        "\n",
        "So first we need to find the output of the inner *i* function so we can use at as the input value for the outer *o* function. Well, that's easy, we know the definition of *i* (square the input), so we can just plug it in:\n",
        "\n",
        "\\begin{equation}u(x) = o(x^{2}) \\end{equation}\n",
        "\n",
        "We also know the definition for the outer *o* function (multiply the input by 2), so we can just apply that to the input:\n",
        "\n",
        "\\begin{equation}u(x) = 2x^{2} \\end{equation}\n",
        "\n",
        "OK, so now we know how to form a composite function. The *chain rule* can be stated like this:\n",
        "\n",
        "\\begin{equation}\\frac{d}{dx}[o(i(x))] = o'(i(x)) \\cdot i'(x)\\end{equation}\n",
        "\n",
        "Alright, let's start by plugging the output of the inner *i(x)* function in:\n",
        "\n",
        "\\begin{equation}\\frac{d}{dx}[o(i(x))] = o'(x^{2}) \\cdot i'(x)\\end{equation}\n",
        "\n",
        "Which when we cancel out the 2x<sup>2</sup> and -2x<sup>2</sup>,is:\n",
        "\n",
        "\\begin{equation}o'(x) = \\lim_{h \\to 0} \\frac{2h}{h} \\end{equation}\n",
        "\n",
        "Which simplifies to:\n",
        "\n",
        "\\begin{equation}o'(x) = 2 \\end{equation}\n",
        "\\begin{equation}i'(x) = 2x \\end{equation}\n",
        "\n",
        "So our equation at this point is:\n",
        "\n",
        "\\begin{equation}\\frac{d}{dx}[o(i(x))] = 2 \\cdot 2x\\end{equation}\n",
        "\n",
        "In this case, we can take our equation:\n",
        "\n",
        "\\begin{equation}\\frac{d}{dx}[o(i(x))] = o'(i(x)) \\cdot i'(x)\\end{equation}\n",
        "\n",
        "and rewrite it as \n",
        "\n",
        "\\begin{equation}\\frac{du}{dx} = \\frac{do}{di}\\frac{di}{dx}\\end{equation}\n",
        "\n",
        "We can then complete the calculations like this:\n",
        "\n",
        "\\begin{equation}\\frac{du}{dx} = 2 \\cdot 2x = 4x\\end{equation}\n",
        "\n",
        "Execute the following code: "
      ]
    },
    {
      "cell_type": "code",
      "metadata": {
        "id": "r3MnqOC4mA23"
      },
      "source": [
        "#running the following code \n",
        "\n",
        "%matplotlib inline\n",
        "\n",
        "# Here's the function\n",
        "def g(x):\n",
        "    return 2*x**(-2) - x"
      ],
      "execution_count": null,
      "outputs": []
    },
    {
      "cell_type": "markdown",
      "metadata": {
        "id": "SDO_UJPij9dE"
      },
      "source": [
        "#4. Write a Python program to \n",
        "\n",
        "\\begin{equation}\\frac{d}{dx}[f(g(x))] \\end{equation}, and \n",
        "\n",
        "\\begin{equation}\\frac{d}{dx}[g(f(x))] \\end{equation}, resepectively.  \n"
      ]
    },
    {
      "cell_type": "markdown",
      "metadata": {
        "id": "b6RR2w_bn2Pa"
      },
      "source": [
        "\n",
        "\n",
        "---\n",
        "\n"
      ]
    },
    {
      "cell_type": "code",
      "metadata": {
        "id": "iBI6MI6OrOZc"
      },
      "source": [
        "#Your code of Question #4 should appear here \n",
        "from sympy import *\n",
        "\n",
        "x=Symbol('x')\n",
        "k=Symbol('k')\n",
        "\n",
        "def f(x):\n",
        "  return 2*x**2 + 1\n",
        "\n",
        "def g(x):\n",
        "  return 2*x**(-2) - x\n",
        "\n",
        "def df(x):\n",
        "  return f(x).diff(x)\n",
        "\n",
        "def dg(x):\n",
        "  return g(x).diff(x)\n",
        "\n",
        "df_dk =f(k).diff(k)\n",
        "dg_dk =g(k).diff(k)\n",
        "\n",
        "df_dg=df_dk.subs(k,g(x))\n",
        "dg_df=dg_dk.subs(k,f(x))\n",
        "\n",
        "chain_rule_fg=df_dg*dg(x)\n",
        "chain_rule_gf=dg_df*df(x)"
      ],
      "execution_count": null,
      "outputs": []
    },
    {
      "cell_type": "code",
      "metadata": {
        "id": "4QtEFiF7n7Fo",
        "outputId": "3d2f95ad-85a0-4376-b2c3-3eb224784597",
        "colab": {
          "base_uri": "https://localhost:8080/",
          "height": 70
        }
      },
      "source": [
        "# Before comparing whether two different derivatives are not equivalent, we need to check whether the chain rule function is equivalent to the derivatives\n",
        "print(chain_rule_fg)\n",
        "print(f(g(x)).diff(x))\n",
        "# It seems different, but when you put arbitrary number into x, the results are equivalent.\n",
        "\n",
        "if chain_rule_fg.subs(x,2)==(f(g(x)).diff(x)).subs(x,2): # 2 is an arbitraryy number\n",
        "  print('Chain rule equation is equivalent to the derivative of composition function')\n",
        "else:\n",
        "  print('Something wrong in the code')"
      ],
      "execution_count": null,
      "outputs": [
        {
          "output_type": "stream",
          "text": [
            "(-1 - 4/x**3)*(-4*x + 8/x**2)\n",
            "2*(-2 - 8/x**3)*(-x + 2/x**2)\n",
            "Chain rule equation is equivalent to the derivative of composition function\n"
          ],
          "name": "stdout"
        }
      ]
    },
    {
      "cell_type": "code",
      "metadata": {
        "id": "tslyA1kWFyyX",
        "outputId": "0151bc01-8434-458b-ba5b-287bab188e7a",
        "colab": {
          "base_uri": "https://localhost:8080/",
          "height": 70
        }
      },
      "source": [
        "print(chain_rule_gf)\n",
        "print(g(f(x)).diff(x))\n",
        "# Same with the gf\n",
        "\n",
        "if chain_rule_gf.subs(x,3)==(g(f(x)).diff(x)).subs(x,3):\n",
        "  print('Chain rule equation is equivalent to the derivative of composition function')\n",
        "else:\n",
        "  print('Something wrong in the code')"
      ],
      "execution_count": null,
      "outputs": [
        {
          "output_type": "stream",
          "text": [
            "4*x*(-1 - 4/(2*x**2 + 1)**3)\n",
            "-4*x - 16*x/(2*x**2 + 1)**3\n",
            "Chain rule equation is equivalent to the derivative of composition function\n"
          ],
          "name": "stdout"
        }
      ]
    },
    {
      "cell_type": "code",
      "metadata": {
        "id": "xSVqXY9YpXfE",
        "outputId": "ab0e34f8-3dc2-48c8-854c-a59daf4c303d",
        "colab": {
          "base_uri": "https://localhost:8080/",
          "height": 34
        }
      },
      "source": [
        "# Therefore, we can use the chainrule to figure out whether dfg and dgf is equivalent like following:\n",
        "\n",
        "def comparing(x):\n",
        "  if chain_rule_fg.subs(x,2) == chain_rule_gf.subs(x,2):\n",
        "    print('The two results of derivative is equivalent')\n",
        "  else:\n",
        "    print('The two results are different')\n",
        "comparing(x)"
      ],
      "execution_count": null,
      "outputs": [
        {
          "output_type": "stream",
          "text": [
            "The two results are different\n"
          ],
          "name": "stdout"
        }
      ]
    },
    {
      "cell_type": "code",
      "metadata": {
        "id": "aZEayOTLbwkw",
        "outputId": "ff3e9409-f6db-488c-a95c-4fdd7224b4ee",
        "colab": {
          "base_uri": "https://localhost:8080/",
          "height": 34
        }
      },
      "source": [
        "# Or you can directly apply the .diff function to compare\n",
        "def comparing2(x):\n",
        "  if (f(g(x)).diff(x)).subs(x,2) == (g(f(x)).diff(x)).subs(x,2):\n",
        "    print('The two results of derivative is equivalent')\n",
        "  else:\n",
        "    print('The two results are different')\n",
        "comparing2(x)"
      ],
      "execution_count": null,
      "outputs": [
        {
          "output_type": "stream",
          "text": [
            "The two results are different\n"
          ],
          "name": "stdout"
        }
      ]
    },
    {
      "cell_type": "markdown",
      "metadata": {
        "id": "bs6xv54g93h-"
      },
      "source": [
        "\n",
        "In here you might add up your written accounts as to why the two results are different. \n"
      ]
    },
    {
      "cell_type": "markdown",
      "metadata": {
        "id": "RAadu-NN9_qN"
      },
      "source": [
        "The reason why the two results(derivative of f dot g and g dot f) are different is because the domains of each composition functionos are different.(f(x) is not equivalent with g(x))\n",
        "\n",
        "(However, in case that 'f=g', the two results can be equivalent.)"
      ]
    },
    {
      "cell_type": "markdown",
      "metadata": {
        "id": "7ZBeidKvrR-1"
      },
      "source": [
        "\n",
        "\n",
        "---\n",
        "\n"
      ]
    },
    {
      "cell_type": "markdown",
      "metadata": {
        "id": "_sHoK3S0ooTA"
      },
      "source": [
        "Now consider the following function, which represents the number of flowers growing in a flower bed before and after the spraying of a fertilizer:\n",
        "\n",
        "\\begin{equation}w(x) = x^{2} + 2x + 7 \\end{equation}"
      ]
    },
    {
      "cell_type": "markdown",
      "metadata": {
        "id": "PvcJinmMpGGj"
      },
      "source": [
        "Execute the following code "
      ]
    },
    {
      "cell_type": "code",
      "metadata": {
        "id": "Ortb5cx8pJwT",
        "outputId": "b3a6d9e4-d1b1-4b0c-8e1d-ccfea74a0f5f",
        "colab": {
          "base_uri": "https://localhost:8080/",
          "height": 279
        }
      },
      "source": [
        "%matplotlib inline\n",
        "\n",
        "# Create function w\n",
        "def w(x):\n",
        "    return (x**2) + (2*x) + 7\n",
        "\n",
        "def wd(x):\n",
        "    return 2*x + 2\n",
        "\n",
        "from matplotlib import pyplot as plt\n",
        "\n",
        "# Create an array of x values to plot\n",
        "x = list(range(-10, 11))\n",
        "\n",
        "# Use the function to get the y values\n",
        "y = [w(i) for i in x]\n",
        "\n",
        "# Use the derivative function to get the derivative values\n",
        "yd = [wd(i) for i in x]\n",
        "\n",
        "# Set up the graph\n",
        "plt.xlabel('x (time in days)')\n",
        "plt.ylabel('w(x) (flowers)')\n",
        "plt.xticks(range(-10,15, 1))\n",
        "plt.yticks(range(-200, 500, 20))\n",
        "plt.grid()\n",
        "\n",
        "# Plot the function\n",
        "plt.plot(x,y, color='green')\n",
        "\n",
        "# Plot the derivative\n",
        "plt.plot(x,yd, color='purple')\n",
        "\n",
        "plt.show()"
      ],
      "execution_count": null,
      "outputs": [
        {
          "output_type": "display_data",
          "data": {
            "image/png": "[encoded data removed]",
            "text/plain": [
              "<Figure size 432x288 with 1 Axes>"
            ]
          },
          "metadata": {
            "tags": [],
            "needs_background": "light"
          }
        }
      ]
    },
    {
      "cell_type": "markdown",
      "metadata": {
        "id": "Z2s6SurnpNVZ"
      },
      "source": [
        "The green line represents the function, showing the number of flowers for 10 days before and after the fertilizer treatment. Before treatment, the number of flowers was in decline, and after treatment the flower bed started to recover.\n",
        "\n",
        "The derivative function is shown in purple, and once again shows a linear change in slope. This time, the slope is increasing at a constant rate; and once again, the derivative function line crosses 0 at the lowest point in the function line (in other words, the slope changed from negative to positive when the flowers started to recover)."
      ]
    },
    {
      "cell_type": "markdown",
      "metadata": {
        "id": "P6ZaqSwYpVgK"
      },
      "source": [
        "From what we've solved so far, it seems that there is a relationship between a function reaching an extreme value (a maximum or a minimum), and a derivative value of 0. This makes intuitive sense; the derivative represents the slope of the line, so when a function changes from a negative slope to a positive slope, or vice-versa, the derivative must pass through 0."
      ]
    },
    {
      "cell_type": "markdown",
      "metadata": {
        "id": "Vc1px3cfpkPw"
      },
      "source": [
        "#5. Write a Python code to display that simply a derivative value equals to 0 does not guarantee the minimum or maximum of the function.  \n",
        "for example,  \\begin{equation}v(x) = x^{3} - 2x + 100 \\end{equation}  \n"
      ]
    },
    {
      "cell_type": "markdown",
      "metadata": {
        "id": "y-rdqITsrsGh"
      },
      "source": [
        "\n",
        "\n",
        "---\n",
        "\n"
      ]
    },
    {
      "cell_type": "code",
      "metadata": {
        "id": "_BjfWDh6F3JO",
        "outputId": "2c13df2b-a776-431a-f49d-e15dc59f1b32",
        "colab": {
          "base_uri": "https://localhost:8080/",
          "height": 52
        }
      },
      "source": [
        "# First, to plot the derivative function of v, we need the code that figures out a numerical expression of v_prime.\n",
        "from sympy import *\n",
        "x=Symbol('x')\n",
        "\n",
        "\n",
        "def v(x):\n",
        "  return x**3-2*x+100\n",
        "\n",
        "def vd(x):\n",
        "  return v(x).diff(x)\n",
        "\n",
        "print(v(x))\n",
        "print(vd(x))"
      ],
      "execution_count": null,
      "outputs": [
        {
          "output_type": "stream",
          "text": [
            "x**3 - 2*x + 100\n",
            "3*x**2 - 2\n"
          ],
          "name": "stdout"
        }
      ]
    },
    {
      "cell_type": "code",
      "metadata": {
        "id": "P-LzhBg8nz4J",
        "outputId": "39720c1d-7e42-4f89-8b21-3f60cbdab3ab",
        "colab": {
          "base_uri": "https://localhost:8080/",
          "height": 279
        }
      },
      "source": [
        "# Now I am going to plot v like following;\n",
        "%matplotlib inline\n",
        "from matplotlib import pyplot as plt\n",
        "\n",
        "x = list(range(-10,10))\n",
        "y = [v(i) for i in x]\n",
        "\n",
        "plt.xlabel('x')\n",
        "plt.ylabel('v(x)')\n",
        "plt.grid()\n",
        "\n",
        "plt.plot(x,y, color='purple')\n",
        "plt.show()"
      ],
      "execution_count": null,
      "outputs": [
        {
          "output_type": "display_data",
          "data": {
            "image/png": "[encoded data removed]",
            "text/plain": [
              "<Figure size 432x288 with 1 Axes>"
            ]
          },
          "metadata": {
            "tags": [],
            "needs_background": "light"
          }
        }
      ]
    },
    {
      "cell_type": "code",
      "metadata": {
        "id": "TvDbzW66Koh2",
        "outputId": "c507718d-2aae-47ba-87fb-fb1989dcc1c5",
        "colab": {
          "base_uri": "https://localhost:8080/",
          "height": 34
        }
      },
      "source": [
        "from sympy import *\n",
        "from sympy import solve\n",
        "x=Symbol('x')\n",
        "\n",
        "vd_solution = solve(vd(x),x)\n",
        "print(vd_solution)\n",
        "# Here are the points that vd(x) is 0."
      ],
      "execution_count": null,
      "outputs": [
        {
          "output_type": "stream",
          "text": [
            "[-sqrt(6)/3, sqrt(6)/3]\n"
          ],
          "name": "stdout"
        }
      ]
    },
    {
      "cell_type": "code",
      "metadata": {
        "id": "qltsNHVHHg-i",
        "outputId": "5f3df513-857f-41f3-87e0-4003e03fe1e5",
        "colab": {
          "base_uri": "https://localhost:8080/",
          "height": 34
        }
      },
      "source": [
        "x1=vd_solution[0]\n",
        "x2=vd_solution[1]\n",
        "\n",
        "if v(x1)>v(x2):\n",
        "  print('Guess:',v(x1),'may be the maximum and',v(x2),'may be the minimum') \n",
        "elif v(x1)<v(x2):\n",
        "  print('Guess:',v(x2),'may be the maximum and',v(x1),'may be the minimum') "
      ],
      "execution_count": null,
      "outputs": [
        {
          "output_type": "stream",
          "text": [
            "Guess: 4*sqrt(6)/9 + 100 may be the maximum and -4*sqrt(6)/9 + 100 may be the minimum\n"
          ],
          "name": "stdout"
        }
      ]
    },
    {
      "cell_type": "code",
      "metadata": {
        "id": "QaIl4To_TH1k",
        "outputId": "7c59809f-b721-4e66-ef7b-69db9b66839b",
        "colab": {
          "base_uri": "https://localhost:8080/",
          "height": 210
        }
      },
      "source": [
        "# Checking whether the x1 and x2 is the maximum and the minimum point respectively;\n",
        "for i in range(10):\n",
        "  x1=x1+0.5\n",
        "  if v(-sqrt(6)/3)>v(x1):\n",
        "    print('This may be the maximum of the function')\n",
        "  else:\n",
        "    print('This is not the maximumm of the function')\n",
        "\n",
        "for i in range(10):\n",
        "  x1=x1-0.5\n",
        "  if v(-sqrt(6)/3)>v(x1):\n",
        "    print('This may be the maximum of the function')\n",
        "  else:\n",
        "    print('This is not the maximumm of the function')\n",
        "    break"
      ],
      "execution_count": null,
      "outputs": [
        {
          "output_type": "stream",
          "text": [
            "This may be the maximum of the function\n",
            "This may be the maximum of the function\n",
            "This may be the maximum of the function\n",
            "This may be the maximum of the function\n",
            "This is not the maximumm of the function\n",
            "This is not the maximumm of the function\n",
            "This is not the maximumm of the function\n",
            "This is not the maximumm of the function\n",
            "This is not the maximumm of the function\n",
            "This is not the maximumm of the function\n",
            "This is not the maximumm of the function\n"
          ],
          "name": "stdout"
        }
      ]
    },
    {
      "cell_type": "code",
      "metadata": {
        "id": "7wWod6EyT9zv",
        "outputId": "0bfdd3f9-8d8d-4693-ee82-62c51687f54b",
        "colab": {
          "base_uri": "https://localhost:8080/",
          "height": 193
        }
      },
      "source": [
        "for i in range(10):\n",
        "  x2=x2-0.5\n",
        "  if v(sqrt(6)/3)<v(x2):\n",
        "    print('This may be the minimum of the function')\n",
        "  else:\n",
        "    print('This is not the minimum of the function')"
      ],
      "execution_count": null,
      "outputs": [
        {
          "output_type": "stream",
          "text": [
            "This may be the minimum of the function\n",
            "This may be the minimum of the function\n",
            "This may be the minimum of the function\n",
            "This may be the minimum of the function\n",
            "This is not the minimum of the function\n",
            "This is not the minimum of the function\n",
            "This is not the minimum of the function\n",
            "This is not the minimum of the function\n",
            "This is not the minimum of the function\n",
            "This is not the minimum of the function\n"
          ],
          "name": "stdout"
        }
      ]
    },
    {
      "cell_type": "markdown",
      "metadata": {
        "id": "Pd4xTUpUryma"
      },
      "source": [
        "\n",
        "\n",
        "\n",
        "\n",
        "---\n",
        "\n"
      ]
    },
    {
      "cell_type": "markdown",
      "metadata": {
        "id": "fqXD5MUDr1B_"
      },
      "source": [
        "Consider the derivatives of a function like the following: \n",
        "\n",
        "$$f(x,y) = x^2 + y^2$$\n",
        "\n",
        "We can take a derivative of the changes in the function with respect to either x or y.  Let's give this a try by taking the derivative of $f(x,y)$ with respect to ***x***. We write this partial derivative as follows.\n",
        "\n",
        "$$\\frac{\\partial f(x,y)}{\\partial x} = \\frac{\\partial (x^2 + y^2)}{\\partial x}$$\n",
        "\n",
        "The partial derivatives find the analog of the slope for multi-dimensional surfaces. We call this qunatity the gradient. The partial derivatives of the $$f(x,y)$$ can be written in a 2 dimensional vector of the change of the function\n",
        "$$grad(f(x,y)) = \\begin{bmatrix}\\frac{\\partial f(x,y)}{\\partial x} \\\\ \\frac{\\partial f(x,y)}{\\partial y} \\end{bmatrix} = \\begin{bmatrix}2x \\\\ 2y \\end{bmatrix} $$\n",
        "\n",
        "\n"
      ]
    },
    {
      "cell_type": "markdown",
      "metadata": {
        "id": "m2zT4J7Fs_ka"
      },
      "source": [
        "#6. Write a Python code to generate the 2-dimensional gradient vector $$f(x,y) = x^2 + y^2 $$"
      ]
    },
    {
      "cell_type": "markdown",
      "metadata": {
        "id": "JuyqiOaDtlJI"
      },
      "source": [
        "\n",
        "\n",
        "---\n",
        "\n"
      ]
    },
    {
      "cell_type": "code",
      "metadata": {
        "id": "ljZEVgBSs-zL",
        "outputId": "0f50d8c6-9a83-460d-a38d-d5fb75d41a5a",
        "colab": {
          "base_uri": "https://localhost:8080/",
          "height": 34
        }
      },
      "source": [
        "#Your code of Question 6 should appear here \n",
        "from sympy import *\n",
        "\n",
        "x=Symbol('x')\n",
        "y=Symbol('y')\n",
        "\n",
        "def f(x,y):\n",
        "  return x**2+y**2\n",
        "\n",
        "dfx=f(x,y).diff(x)\n",
        "dfy=f(x,y).diff(y)\n",
        "\n",
        "import numpy as np\n",
        "gradient_vector=np.array([[dfx,dfy]])\n",
        "print(gradient_vector)"
      ],
      "execution_count": null,
      "outputs": [
        {
          "output_type": "stream",
          "text": [
            "[[2*x 2*y]]\n"
          ],
          "name": "stdout"
        }
      ]
    },
    {
      "cell_type": "markdown",
      "metadata": {
        "id": "eozy2A2Qtrmv"
      },
      "source": [
        "\n",
        "\n",
        "---\n",
        "\n"
      ]
    },
    {
      "cell_type": "markdown",
      "metadata": {
        "id": "aAzrj7E6uHOw"
      },
      "source": [
        "All you have to do with this gradient vector would direct to find the minimum of the function $$𝑓(𝑥,𝑦)=𝑥^2+𝑦^2$$ \n",
        "It is easy to see that the minimum of this function is at 𝑥=0  and  𝑦=0. \n",
        "\n",
        "But, what if you did not know the solution of the n-dimensional problem (which your data would be normally more than 100 dimensions)?\n",
        "\n",
        "Then the Gradient Descent Method could be applicable as follows:\n",
        "\n",
        "1. Compute the gradient.\n",
        "2. Take a small step in the direction of the gradient.\n",
        "3. Determine if the gradient is close to zero. If so, then stop, since the gradient will be zero at the minimum.\n",
        "4. Repeate steps 2, 3 and 4.\n",
        "\n",
        "The algorithm outlined above is called the gradient decent method. It is the basis of many real-world minimization algorithms."
      ]
    },
    {
      "cell_type": "markdown",
      "metadata": {
        "id": "dfIreKC9ttZK"
      },
      "source": [
        "#7. Implement a Gradient descent method (with Python), so to find the optimal minimal solution $$𝑓(𝑥,𝑦,z)= (𝑥-3)^2 + (𝑦-2)^2 + (z-5)^2 $$\n",
        "Please extend the code from Question 6.  "
      ]
    },
    {
      "cell_type": "markdown",
      "metadata": {
        "id": "OK8Ep_K9vqpl"
      },
      "source": [
        "\n",
        "\n",
        "---\n",
        "\n"
      ]
    },
    {
      "cell_type": "code",
      "metadata": {
        "id": "3By9FAhKj30L",
        "outputId": "c4cb23f9-0d35-4705-d921-88ee7ed4ab2f",
        "colab": {
          "base_uri": "https://localhost:8080/",
          "height": 70
        }
      },
      "source": [
        "#Your coide for Question 7 should appear here. \n",
        "\n",
        "from sympy import *\n",
        "\n",
        "x,y,z = symbols('x,y,z')\n",
        "f=(x-3)**2+(y-2)**2+(z-5)**2\n",
        "\n",
        "dfx=f.diff(x)\n",
        "dfy=f.diff(y)\n",
        "dfz=f.diff(z)\n",
        "\n",
        "import numpy as np\n",
        "gradient_vector=np.array([[dfx],[dfy],[dfz]])\n",
        "print(gradient_vector)"
      ],
      "execution_count": null,
      "outputs": [
        {
          "output_type": "stream",
          "text": [
            "[[2*x - 6]\n",
            " [2*y - 4]\n",
            " [2*z - 10]]\n"
          ],
          "name": "stdout"
        }
      ]
    },
    {
      "cell_type": "code",
      "metadata": {
        "id": "6CwuffNC86GC",
        "outputId": "33ac0907-fa2d-4aa8-d22b-ce3b02617864",
        "colab": {
          "base_uri": "https://localhost:8080/",
          "height": 34
        }
      },
      "source": [
        "k=1 # choose the arbitrary k\n",
        "  \n",
        "for i in range(50):\n",
        "  \n",
        "  if dfx.subs(x,k)>0:\n",
        "    k=k-0.1\n",
        "  else:\n",
        "    k=k+0.1\n",
        "  if dfx.subs(x,k)>-0.01 and dfx.subs(x,k)<0.01 :\n",
        "    print ('x=',k,'is the point where the gradient approaches',dfx.subs(x,k))\n",
        "    break"
      ],
      "execution_count": null,
      "outputs": [
        {
          "output_type": "stream",
          "text": [
            "x= 3.0000000000000018 is the point where the gradient approaches 3.55271367880050e-15\n"
          ],
          "name": "stdout"
        }
      ]
    },
    {
      "cell_type": "code",
      "metadata": {
        "id": "pnU5szHsBC5K",
        "outputId": "4871b7a5-1735-45e7-dba9-c3e32fee36d2",
        "colab": {
          "base_uri": "https://localhost:8080/",
          "height": 34
        }
      },
      "source": [
        "k=1 # choose the arbitrary k\n",
        "  \n",
        "for i in range(50):\n",
        "  \n",
        "  if dfy.subs(y,k)>0:\n",
        "    k=k-0.1\n",
        "  else:\n",
        "    k=k+0.1\n",
        "  if dfy.subs(y,k)>-0.01 and dfx.subs(x,k)<0.01 :\n",
        "    print ('y=',k,'is the point where the gradient approaches',dfy.subs(y,k))\n",
        "    break"
      ],
      "execution_count": null,
      "outputs": [
        {
          "output_type": "stream",
          "text": [
            "y= 2.000000000000001 is the point where the gradient approaches 1.77635683940025e-15\n"
          ],
          "name": "stdout"
        }
      ]
    },
    {
      "cell_type": "code",
      "metadata": {
        "id": "FHZJNTHIv9f1",
        "outputId": "d9183c73-529a-4dd3-8e7f-569a25a9bd08",
        "colab": {
          "base_uri": "https://localhost:8080/",
          "height": 34
        }
      },
      "source": [
        "k=1 # choose the arbitrary k\n",
        "  \n",
        "for i in range(50):\n",
        "  \n",
        "  if dfz.subs(z,k)>0:\n",
        "    k=k-0.1\n",
        "  else:\n",
        "    k=k+0.1\n",
        "  if dfz.subs(z,k)>-0.01 and dfz.subs(z,k)<0.01 :\n",
        "    print ('z=',k,'is the point where the gradient approaches',dfz.subs(z,k))\n",
        "    break"
      ],
      "execution_count": null,
      "outputs": [
        {
          "output_type": "stream",
          "text": [
            "z= 4.999999999999999 is the point where the gradient approaches -1.77635683940025e-15\n"
          ],
          "name": "stdout"
        }
      ]
    },
    {
      "cell_type": "code",
      "metadata": {
        "id": "MTG9MCDSwdyc",
        "outputId": "ce2e08c0-c1c2-4782-bd05-64d978cc6577",
        "colab": {
          "base_uri": "https://localhost:8080/",
          "height": 122
        }
      },
      "source": [
        "# Or you can define the function that spits out the optimal points like following:\n",
        "def gradinet_descent(k,l,m):\n",
        "  k=1\n",
        "  for i in range(50):\n",
        "    if l.subs(m,k)>0:\n",
        "      k=k-0.1\n",
        "    else:\n",
        "      k=k+0.1\n",
        "\n",
        "    if l.subs(m,k)>-0.01 and l.subs(m,k)<0.01:\n",
        "      print(m,'=',k,'is the point where the gradient approaches',l.subs(m,k))\n",
        "      break\n",
        "\n",
        "print(gradinet_descent(k,dfx,x))\n",
        "print(gradinet_descent(k,dfy,y))\n",
        "print(gradinet_descent(k,dfz,z))"
      ],
      "execution_count": null,
      "outputs": [
        {
          "output_type": "stream",
          "text": [
            "x = 3.0000000000000018 is the point where the gradient approaches 3.55271367880050e-15\n",
            "None\n",
            "y = 2.000000000000001 is the point where the gradient approaches 1.77635683940025e-15\n",
            "None\n",
            "z = 4.999999999999999 is the point where the gradient approaches -1.77635683940025e-15\n",
            "None\n"
          ],
          "name": "stdout"
        }
      ]
    },
    {
      "cell_type": "markdown",
      "metadata": {
        "id": "PMl9cHnQvsOf"
      },
      "source": [
        "\n",
        "\n",
        "---\n",
        "\n"
      ]
    },
    {
      "cell_type": "markdown",
      "metadata": {
        "id": "sgWoxRBrvuXl"
      },
      "source": [
        "#8. Apply the Gradient Descent Method (from Question 7) to find the optimal minimal point of the following function (you need to use the chain rule from Question 4)  \n",
        "\n",
        "## $$ w(x) = f(g(h(k(x)))) $$\n",
        "\n",
        "where, \n",
        "$$ f(x) = log(g(x)) $$\n",
        "$$ g(x) = e^{h(x)} $$\n",
        "$$ h(x) = 2x^2+k(x) $$\n",
        "$$ k(x) = 5x-1 $$\n",
        "\n",
        "\n"
      ]
    },
    {
      "cell_type": "code",
      "metadata": {
        "id": "pODWLJVrx46G",
        "outputId": "e813e8ea-01e3-4cf4-b33a-b825f2e31bb0",
        "colab": {
          "base_uri": "https://localhost:8080/",
          "height": 105
        }
      },
      "source": [
        "# Your answer of Question #8 should appear here. \n",
        "#chain rule\n",
        "#quite challenging\n",
        "from sympy import *\n",
        "x=Symbol('x')\n",
        "m=Symbol('m')\n",
        "\n",
        "def k(x):\n",
        "  return 5*x-1\n",
        "\n",
        "def h(x):\n",
        "  return 2*x**2 + k(x)\n",
        "\n",
        "def g(x):\n",
        "  return exp(h(x))\n",
        "\n",
        "def f(x):\n",
        "  return log(g(x))\n",
        "\n",
        "def w(x):\n",
        "  return f(g(h(k(x))))\n",
        "\n",
        "print(k(x))\n",
        "print(h(x))\n",
        "print(g(x))\n",
        "print(f(x))\n",
        "print(w(x))"
      ],
      "execution_count": null,
      "outputs": [
        {
          "output_type": "stream",
          "text": [
            "5*x - 1\n",
            "2*x**2 + 5*x - 1\n",
            "exp(2*x**2 + 5*x - 1)\n",
            "log(exp(2*x**2 + 5*x - 1))\n",
            "log(exp(5*exp(125*x + 10*(5*x - 1)**2 + 2*(25*x + 2*(5*x - 1)**2 - 6)**2 - 31) + 2*exp(250*x + 20*(5*x - 1)**2 + 4*(25*x + 2*(5*x - 1)**2 - 6)**2 - 62) - 1))\n"
          ],
          "name": "stdout"
        }
      ]
    },
    {
      "cell_type": "code",
      "metadata": {
        "id": "YTrGpFULzs8q",
        "colab": {
          "base_uri": "https://localhost:8080/",
          "height": 34
        },
        "outputId": "5f2cf44c-5cac-41c5-b4fe-2cc989068b5e"
      },
      "source": [
        "df_dm=f(m).diff(m)\n",
        "df_dg=df_dm.subs(m,g(h(k(x))))\n",
        "\n",
        "dg_dm =g(m).diff(m)\n",
        "dg_dh =dg_dm.subs(m,h(k(x)))\n",
        "\n",
        "dh_dm =h(m).diff(m)\n",
        "dh_dk =dh_dm.subs(m,k(x))\n",
        "\n",
        "\n",
        "chain_rule_result=df_dg*dg_dh*dh_dk*(k(x).diff(x))\n",
        "simplify(chain_rule_result)"
      ],
      "execution_count": null,
      "outputs": [
        {
          "output_type": "execute_result",
          "data": {
            "text/plain": [
              "5*(20*x + 1)*(4*exp(125*x + 10*(5*x - 1)**2 + 2*(25*x + 2*(5*x - 1)**2 - 6)**2 - 31) + 5)*(100*x + 8*(5*x - 1)**2 - 19)*exp(125*x + 10*(5*x - 1)**2 + 2*(25*x + 2*(5*x - 1)**2 - 6)**2 - 31)"
            ]
          },
          "metadata": {
            "tags": []
          },
          "execution_count": 31
        }
      ]
    },
    {
      "cell_type": "code",
      "metadata": {
        "id": "dXHBusog0yL7",
        "outputId": "0771970e-6bfb-4287-886b-f585071d41df",
        "colab": {
          "base_uri": "https://localhost:8080/",
          "height": 34
        }
      },
      "source": [
        "k=1 # choose the arbitrary k\n",
        "\n",
        "for i in range(1000):\n",
        "  if chain_rule_result.subs(x,k)>0:\n",
        "    k=k-0.01\n",
        "  else:\n",
        "    k=k+0.01\n",
        "  if (chain_rule_result.subs(x,k)>-0.1 and chain_rule_result.subs(x,k)<0.1) :\n",
        "    print('x=',k,'is the point where the gradient approaches',chain_rule_result.subs(x,k))\n",
        "    break"
      ],
      "execution_count": null,
      "outputs": [
        {
          "output_type": "stream",
          "text": [
            "x= 0.18999999999999928 is the point where the gradient approaches 0.0392959932734767\n"
          ],
          "name": "stdout"
        }
      ]
    },
    {
      "cell_type": "code",
      "metadata": {
        "id": "H2VsRPvCS7yM",
        "colab": {
          "base_uri": "https://localhost:8080/",
          "height": 34
        },
        "outputId": "9c8bf563-d95a-4efd-fca5-708514c576ca"
      },
      "source": [
        "# However, the x that the code spitted out might not be the only x in the function(w), which means it might be the local optimal point, not the global optimal point.\n",
        "#(Following is the code that approaches another optimal point;)\n",
        "\n",
        "k=-1 # choose the arbitrary k\n",
        "\n",
        "for i in range(1000):\n",
        "  if chain_rule_result.subs(x,k)>0:\n",
        "    k=k-0.01\n",
        "  else:\n",
        "    k=k+0.01\n",
        "  if (chain_rule_result.subs(x,k)>-0.1 and chain_rule_result.subs(x,k)<0.1) :\n",
        "    print('x=',k,'is the point where the gradient approaches',chain_rule_result.subs(x,k))\n",
        "    break"
      ],
      "execution_count": null,
      "outputs": [
        {
          "output_type": "stream",
          "text": [
            "x= -0.28999999999999937 is the point where the gradient approaches -0.0392959932734766\n"
          ],
          "name": "stdout"
        }
      ]
    },
    {
      "cell_type": "markdown",
      "metadata": {
        "id": "usA8C38Ax-0e"
      },
      "source": [
        "\n",
        "\n",
        "---\n",
        "\n"
      ]
    },
    {
      "cell_type": "markdown",
      "metadata": {
        "id": "exIfYKkxyBWz"
      },
      "source": [
        "In general terms, a matrix is an array of numbers that are arranged into rows and columns.\n",
        "\n",
        "## Matrices and Matrix Notation\n",
        "A matrix arranges numbers into rows and columns, like this:\n",
        "\n",
        "\\begin{equation}A = \\begin{bmatrix}\n",
        "  1 & 2 & 3 \\\\\n",
        "  4 & 5 & 6\n",
        " \\end{bmatrix}\n",
        "\\end{equation}\n",
        "\n",
        "Note that matrices are generally named as a capital letter. We refer to the *elements* of the matrix using the lower case equivalent with a subscript row and column indicator, like this:\n",
        "\n",
        "\\begin{equation}A = \\begin{bmatrix}\n",
        "  a_{1,1} & a_{1,2} & a_{1,3} \\\\\n",
        "  a_{2,1} & a_{2,2} & a_{2,3}\n",
        " \\end{bmatrix}\n",
        "\\end{equation}\n",
        "\n",
        "In Python, you can define a matrix as a 2-dimensional *numpy.**array***, like this:"
      ]
    },
    {
      "cell_type": "code",
      "metadata": {
        "id": "spkSUnLSypZN"
      },
      "source": [
        "#execute the following code "
      ],
      "execution_count": null,
      "outputs": []
    },
    {
      "cell_type": "code",
      "metadata": {
        "id": "GP07NxTEyseD",
        "colab": {
          "base_uri": "https://localhost:8080/",
          "height": 52
        },
        "outputId": "0cfd628b-87a2-41c6-d674-1fc5e5a69cff"
      },
      "source": [
        "import numpy as np\n",
        "\n",
        "A = np.array([[1,2,3],\n",
        "              [4,5,6]])\n",
        "print (A)"
      ],
      "execution_count": null,
      "outputs": [
        {
          "output_type": "stream",
          "text": [
            "[[1 2 3]\n",
            " [4 5 6]]\n"
          ],
          "name": "stdout"
        }
      ]
    },
    {
      "cell_type": "markdown",
      "metadata": {
        "id": "uO45EtgXyzJv"
      },
      "source": [
        "You can also use the numpy.matrix type, which is a specialist subclass of array:"
      ]
    },
    {
      "cell_type": "code",
      "metadata": {
        "id": "21o9S4Z_yua4"
      },
      "source": [
        "#execute the following code "
      ],
      "execution_count": null,
      "outputs": []
    },
    {
      "cell_type": "code",
      "metadata": {
        "id": "yV2vSAw9y8nW",
        "colab": {
          "base_uri": "https://localhost:8080/",
          "height": 52
        },
        "outputId": "5481dc69-f8a3-4b95-fd8d-02c7e1b9d52b"
      },
      "source": [
        "import numpy as np\n",
        "\n",
        "M = np.matrix([[1,2,3],\n",
        "               [4,5,6]])\n",
        "print (M)"
      ],
      "execution_count": null,
      "outputs": [
        {
          "output_type": "stream",
          "text": [
            "[[1 2 3]\n",
            " [4 5 6]]\n"
          ],
          "name": "stdout"
        }
      ]
    },
    {
      "cell_type": "markdown",
      "metadata": {
        "id": "fq6rxElXzCfJ"
      },
      "source": [
        "#9. You now have the 2-dimensional gradient vector from Question 6. Create a matrix to hold the gradient values of the following two points \n",
        "\n",
        "(x<sub>1</sub>, y<sub>1</sub>) = (1,3), (x<sub>2</sub>, y<sub>2</sub>) = (-1,-3) "
      ]
    },
    {
      "cell_type": "code",
      "metadata": {
        "id": "emLwKJG4yL7d",
        "outputId": "867e652c-d01c-44f7-fbe4-701a61a6d2ae",
        "colab": {
          "base_uri": "https://localhost:8080/",
          "height": 105
        }
      },
      "source": [
        "#Your code of question 9 should be here \n",
        "from sympy import *\n",
        "import numpy as np\n",
        "\n",
        "# as gradient vector is [2x,2y], you can build a cod to make a matrix which holds the gradient values like following:\n",
        "print(gradient_vector)\n",
        "gv=np.array([dfx,dfy])\n",
        "\n",
        "x=Symbol('x')\n",
        "y=Symbol('y')\n",
        "\n",
        "def f(x,y):\n",
        "  return x**2+y**2\n",
        "\n",
        "def dfx(x,y):\n",
        "  return f(x,y).diff(x)\n",
        "\n",
        "def dfy(x,y):\n",
        "  return f(x,y).diff(y)\n",
        "\n",
        "x1=1\n",
        "y1=3\n",
        "x2=-1\n",
        "y2=-3\n",
        "\n",
        "a=np.array([dfx(x,y).subs(x,x1),dfy(x,y).subs(y,y1)])\n",
        "b=np.array([dfx(x,y).subs(x,x2),dfy(x,y).subs(y,y2)])\n",
        "gradient_matrix=np.vstack((a,b))\n",
        "\n",
        "print(gradient_matrix)"
      ],
      "execution_count": null,
      "outputs": [
        {
          "output_type": "stream",
          "text": [
            "[[2*x - 6]\n",
            " [2*y - 4]\n",
            " [2*z - 10]]\n",
            "[[2 6]\n",
            " [-2 -6]]\n"
          ],
          "name": "stdout"
        }
      ]
    },
    {
      "cell_type": "markdown",
      "metadata": {
        "id": "e6Lt48wF0uiQ"
      },
      "source": [
        "\n",
        "\n",
        "---\n",
        "\n"
      ]
    },
    {
      "cell_type": "markdown",
      "metadata": {
        "id": "YuLsawK_0xfE"
      },
      "source": [
        "By the gradient descent method, you need to move your next search point toward the left, at (x<sub>1</sub>, y<sub>1</sub>). By the same convention, you need to move your next search point  toward the right, at (x<sub>2</sub>, y<sub>2</sub>), until the gradient vectors' values of your search points are close to 0.   \n",
        "\n",
        "---\n",
        "\n",
        "#10. Update your code from #Question7 to encompass the multi-dimensional gradient descent methods using the gradient matrices. "
      ]
    },
    {
      "cell_type": "code",
      "metadata": {
        "id": "5h4d3jpcy9QR",
        "colab": {
          "base_uri": "https://localhost:8080/",
          "height": 158
        },
        "outputId": "249e7714-12f2-40c4-a828-cf13cbad667e"
      },
      "source": [
        "from sympy import *\n",
        "\n",
        "x,y,z,w = symbols('x,y,z,w')\n",
        "#arbitrary 4-dimensional function\n",
        "f=(x-2)**4+(y-2)**2+(z-6)**2+w**2\n",
        "\n",
        "fdx=diff(f,x)\n",
        "fdy=diff(f,y)\n",
        "fdz=diff(f,z)\n",
        "fdw=diff(f,w)\n",
        "\n",
        "import numpy as np\n",
        "gradient_vector=np.array([[fdx],[fdy],[fdz],[fdw]])\n",
        "print(gradient_vector)\n",
        "\n",
        "\n",
        "def gradinet_descent(k,l,m):\n",
        "  \n",
        "  for i in range(50):\n",
        "    if l.subs(m,k)>0:\n",
        "      k=k-0.1\n",
        "    else:\n",
        "      k=k+0.1\n",
        "\n",
        "    if l.subs(m,k)>-0.01 and l.subs(m,k)<0.01:\n",
        "      print(m,'=',k,'is the point where the gradient approaches',l.subs(m,k))\n",
        "      break\n",
        "\n",
        "gradinet_descent(1,fdx,x)\n",
        "gradinet_descent(1,fdy,y)\n",
        "gradinet_descent(1,fdz,z)\n",
        "gradinet_descent(1,fdw,w)"
      ],
      "execution_count": null,
      "outputs": [
        {
          "output_type": "stream",
          "text": [
            "[[4*(x - 2)**3]\n",
            " [2*y - 4]\n",
            " [2*z - 12]\n",
            " [2*w]]\n",
            "x = 1.9000000000000008 is the point where the gradient approaches -0.00399999999999990\n",
            "y = 2.000000000000001 is the point where the gradient approaches 1.77635683940025e-15\n",
            "z = 5.999999999999996 is the point where the gradient approaches -8.88178419700125e-15\n",
            "w = 1.3877787807814457e-16 is the point where the gradient approaches 2.77555756156289e-16\n"
          ],
          "name": "stdout"
        }
      ]
    },
    {
      "cell_type": "markdown",
      "metadata": {
        "id": "e40xrm3d2VKc"
      },
      "source": [
        "\n",
        "\n",
        "---\n",
        "\n"
      ]
    },
    {
      "cell_type": "markdown",
      "metadata": {
        "id": "DQF2akdY2XrF"
      },
      "source": [
        "We can decompse a matrix using the following formula: \n",
        "Where ***A*** is a matrix (for example the answer from Question 9), ***Q*** is a matrix of eigenvectors that defines a change of basis, and ***&Lambda;*** is a matrix with eigenvalues on the diagonal that defines the same linear transformation as ***A*** in the base defined by ***Q***.\n",
        "\n",
        "Consider this matrix:\n",
        "\n",
        "$$A=\\begin{bmatrix}3 & 2\\\\1 & 0\\end{bmatrix}$$\n",
        "\n",
        "(note that you need to change this ***A*** into the answer from Question #9.) \n",
        "\n",
        "***Q*** is a matrix in which each column is an eigenvector of ***A***; which we can calculate using Python:"
      ]
    },
    {
      "cell_type": "code",
      "metadata": {
        "id": "4MDkQBoF9m77"
      },
      "source": [
        "#Execute the following code"
      ],
      "execution_count": null,
      "outputs": []
    },
    {
      "cell_type": "code",
      "metadata": {
        "id": "ITUwV4Rr9qTE",
        "outputId": "cd005a30-dee8-434d-ae63-a253abddac90",
        "colab": {
          "base_uri": "https://localhost:8080/",
          "height": 52
        }
      },
      "source": [
        "import numpy as np\n",
        "\n",
        "A = np.array([[3,2],\n",
        "              [1,0]])\n",
        "\n",
        "l, Q = np.linalg.eig(A)\n",
        "print(Q)"
      ],
      "execution_count": null,
      "outputs": [
        {
          "output_type": "stream",
          "text": [
            "[[ 0.96276969 -0.48963374]\n",
            " [ 0.27032301  0.87192821]]\n"
          ],
          "name": "stdout"
        }
      ]
    },
    {
      "cell_type": "markdown",
      "metadata": {
        "id": "1kzjEB7i9uS7"
      },
      "source": [
        "So for matrix ***A***, ***Q*** is the following matrix:\n",
        "\n",
        "$$Q=\\begin{bmatrix}0.96276969 & -0.48963374\\\\0.27032301 & 0.87192821\\end{bmatrix}$$\n",
        "\n",
        "***&Lambda;*** is a matrix that contains the eigenvalues for ***A*** on the diagonal, with zeros in all other elements; so for a 2x2 matrix, &Lambda; will look like this:\n",
        "\n",
        "$$\\Lambda=\\begin{bmatrix}\\lambda_{1} & 0\\\\0 & \\lambda_{2}\\end{bmatrix}$$\n",
        "\n",
        "In the Python code, the ***linalg.eig*** function to return the array of eigenvalues for ***A*** into the variable ***l***, so now we just need to format that as a matrix:"
      ]
    },
    {
      "cell_type": "code",
      "metadata": {
        "id": "lQ_hXNor9r7g"
      },
      "source": [
        "#Execute the following code"
      ],
      "execution_count": null,
      "outputs": []
    },
    {
      "cell_type": "code",
      "metadata": {
        "id": "V_jMwuz4-Eir",
        "outputId": "06f3a696-60f8-484f-9138-c44dfc4885f8",
        "colab": {
          "base_uri": "https://localhost:8080/",
          "height": 52
        }
      },
      "source": [
        "L = np.diag(l)\n",
        "print (L)"
      ],
      "execution_count": null,
      "outputs": [
        {
          "output_type": "stream",
          "text": [
            "[[ 3.56155281  0.        ]\n",
            " [ 0.         -0.56155281]]\n"
          ],
          "name": "stdout"
        }
      ]
    },
    {
      "cell_type": "markdown",
      "metadata": {
        "id": "l_mjFwpq-Jdr"
      },
      "source": [
        "So ***&Lambda;*** is the following matrix:\n",
        "\n",
        "$$\\Lambda=\\begin{bmatrix}3.56155281 & 0\\\\0 & -0.56155281\\end{bmatrix}$$\n",
        "\n",
        "Now we  need to find ***Q<sup>-1</sup>***, which is the inverse of ***Q***:"
      ]
    },
    {
      "cell_type": "code",
      "metadata": {
        "id": "r1CWO_h8-GHD"
      },
      "source": [
        "#execute the following code "
      ],
      "execution_count": null,
      "outputs": []
    },
    {
      "cell_type": "code",
      "metadata": {
        "id": "8FgH0HqT-Ry1",
        "outputId": "6ce4e7ee-4c2a-4dab-94b1-69663b094226",
        "colab": {
          "base_uri": "https://localhost:8080/",
          "height": 52
        }
      },
      "source": [
        "Qinv = np.linalg.inv(Q)\n",
        "print(Qinv)"
      ],
      "execution_count": null,
      "outputs": [
        {
          "output_type": "stream",
          "text": [
            "[[ 0.89720673  0.50382896]\n",
            " [-0.27816009  0.99068183]]\n"
          ],
          "name": "stdout"
        }
      ]
    },
    {
      "cell_type": "markdown",
      "metadata": {
        "id": "d6_sefWO-VUt"
      },
      "source": [
        "The inverse of ***Q*** then, is:\n",
        "\n",
        "$$Q^{-1}=\\begin{bmatrix}0.89720673 & 0.50382896\\\\-0.27816009 & 0.99068183\\end{bmatrix}$$\n",
        "\n",
        "Now, we can decompose the transformation of *any* vector multiplied by matrix ***A*** into the separate operations ***Q&Lambda;Q<sup>-1</sup>***\n",
        "\n",
        "This is called as an eigendecomposition..."
      ]
    },
    {
      "cell_type": "markdown",
      "metadata": {
        "id": "BAiZhEtQ_SZn"
      },
      "source": [
        "#11. Display ***A*** and the following eigendecomposition is equivalent \n",
        "$$Q \\Lambda Q^{-1} $$\n"
      ]
    },
    {
      "cell_type": "code",
      "metadata": {
        "id": "IyvqSrb_-SMf",
        "outputId": "f6ff7d28-0189-4f88-d113-f4d6332aa646",
        "colab": {
          "base_uri": "https://localhost:8080/",
          "height": 52
        }
      },
      "source": [
        "#Your code (or displaying result) should appear here. \n",
        "import numpy as np\n",
        "\n",
        "print(gradient_matrix)"
      ],
      "execution_count": null,
      "outputs": [
        {
          "output_type": "stream",
          "text": [
            "[[2 6]\n",
            " [-2 -6]]\n"
          ],
          "name": "stdout"
        }
      ]
    },
    {
      "cell_type": "code",
      "metadata": {
        "id": "cKk696phDWwo",
        "outputId": "0d7941bb-b9cd-4b2b-af9f-7ce04b5a9e88",
        "colab": {
          "base_uri": "https://localhost:8080/",
          "height": 193
        }
      },
      "source": [
        "A=np.array([[2,6],[-2,-6]])\n",
        "\n",
        "print(A)\n",
        "\n",
        "l, Q = np.linalg.eig(A)\n",
        "print(Q)\n",
        "\n",
        "L = np.diag(l)\n",
        "print (L)\n",
        "\n",
        "Qinv = np.linalg.inv(Q)\n",
        "print(Qinv)\n",
        "\n",
        "B=Q.dot(L.dot(Qinv))\n",
        "\n",
        "print(B) # As you see, matrix A and B is equivalent."
      ],
      "execution_count": null,
      "outputs": [
        {
          "output_type": "stream",
          "text": [
            "[[ 2  6]\n",
            " [-2 -6]]\n",
            "[[ 0.9486833  -0.70710678]\n",
            " [-0.31622777  0.70710678]]\n",
            "[[ 0.  0.]\n",
            " [ 0. -4.]]\n",
            "[[1.58113883 1.58113883]\n",
            " [0.70710678 2.12132034]]\n",
            "[[ 2.  6.]\n",
            " [-2. -6.]]\n"
          ],
          "name": "stdout"
        }
      ]
    },
    {
      "cell_type": "markdown",
      "metadata": {
        "id": "CY784rwR_rG9"
      },
      "source": [
        "\n",
        "\n",
        "---\n",
        "\n"
      ]
    },
    {
      "cell_type": "markdown",
      "metadata": {
        "id": "sLgcUNq9_yin"
      },
      "source": [
        "In your later study (I reckon Year 3) with regard to Deep learning, you will revisit this eigendecomposition issue when you learn 'Regularization'. \n",
        "\n",
        "For example, your Hessian Matrix (in fact the following is the Hessian Matrix of Question #6) \n",
        "$$A=\\begin{bmatrix}2 & 0\\\\0 & 2\\end{bmatrix}$$\n",
        "\n",
        "Then, you apply the eigendecomposition of ***A***, resulting \n",
        "\n",
        "$$ H = Q \\Lambda Q^{-1} $$\n",
        "\n",
        "Then the ***H*** can be added up by an Identity matrix multiplied by a certain constant to a new Hessian Matrix, such as:\n",
        "\n",
        "$$H'=\\begin{bmatrix}h_{11}+\\alpha & 0\\\\0 & h_{22}+\\alpha\\end{bmatrix}$$\n",
        "\n",
        "The inverse of the new matrix ***H'*** would be used to along with your gradient descent method (from your question #10), to find the solution of the deep learning.  "
      ]
    },
    {
      "cell_type": "markdown",
      "metadata": {
        "id": "4zysaMkKBhSZ"
      },
      "source": [
        "#12. First, write a Python program to make eigendecomposition,  then show how H can be converted into ***H'***, then finally find the inverse matrix of ***H'*** \n",
        "\n",
        "$$A=\\begin{bmatrix}2 & 0\\\\0 & 2\\end{bmatrix}$$\n",
        "\n"
      ]
    },
    {
      "cell_type": "code",
      "metadata": {
        "id": "kOJPPPep-jjz",
        "outputId": "01fdf3e7-8a02-48f0-9bfd-ed73cce4a8f5",
        "colab": {
          "base_uri": "https://localhost:8080/",
          "height": 52
        }
      },
      "source": [
        "import numpy as np\n",
        "from sympy import *\n",
        "\n",
        "H = np.array([[2,0],[0,2]])\n",
        "l, Q = np.linalg.eig(H)\n",
        "L = np.diag(l)\n",
        "invQ = np.linalg.inv(Q)\n",
        "\n",
        "Q.dot(L.dot(invQ))"
      ],
      "execution_count": null,
      "outputs": [
        {
          "output_type": "execute_result",
          "data": {
            "text/plain": [
              "array([[2., 0.],\n",
              "       [0., 2.]])"
            ]
          },
          "metadata": {
            "tags": []
          },
          "execution_count": 51
        }
      ]
    },
    {
      "cell_type": "code",
      "metadata": {
        "id": "CTiy_oVijvhK",
        "colab": {
          "base_uri": "https://localhost:8080/",
          "height": 52
        },
        "outputId": "cfadceb0-fcfd-4f69-bc26-9b4bea449952"
      },
      "source": [
        "#First, to figure out the eigen value, we need to figure our the determinant of \n",
        "\n",
        "def determinant(a,b,c,d):\n",
        "  return a*d-b*c\n",
        "\n",
        "def inverse_2_by_2(a,b,c,d):\n",
        "  K=np.array([[d,-1*b],[-1*c,a]])\n",
        "  return (1/determinant(a,b,c,d))*K\n",
        "\n",
        "1/determinant(H[0,0],H[0,1],H[1,0],H[1,1])\n",
        "inverse_2_by_2(H[0][0],H[0][1],H[1][0],H[1][1])"
      ],
      "execution_count": null,
      "outputs": [
        {
          "output_type": "execute_result",
          "data": {
            "text/plain": [
              "array([[0.5, 0. ],\n",
              "       [0. , 0.5]])"
            ]
          },
          "metadata": {
            "tags": []
          },
          "execution_count": 52
        }
      ]
    },
    {
      "cell_type": "markdown",
      "metadata": {
        "id": "lSumP3maEmWh"
      },
      "source": [
        "\n",
        "\n",
        "---\n",
        "\n"
      ]
    },
    {
      "cell_type": "markdown",
      "metadata": {
        "id": "oeyObiswEnqT"
      },
      "source": [
        "Statistics are based on data, which consist of a collection of pieces of information about things you want to study. This information can take the form of descriptions, quantities, measurements, and other observations. Typically, we work with related data items in a dataset, which often consists of a collection of observations or cases. Most commonly, we thing about this dataset as a table that consists of a row for each observation, and a column for each individual data point related to that observation - we variously call these data points attributes or features, and they each describe a specific characteristic of the thing we're observing.\n",
        "\n",
        "Let's take a look at a real example. In 1886, Francis Galton conducted a study into the relationship between heights of parents and their (adult) children. Run the Python code below to view the data he collected (you can safely ignore a deprecation warning if it is displayed):"
      ]
    },
    {
      "cell_type": "code",
      "metadata": {
        "id": "wR2WQr3lE-3a"
      },
      "source": [
        "#Execute the following code "
      ],
      "execution_count": null,
      "outputs": []
    },
    {
      "cell_type": "code",
      "metadata": {
        "id": "HmvtC2rqFAuV",
        "outputId": "a5ed6619-fa16-49a4-f63e-a065af74e298",
        "colab": {
          "base_uri": "https://localhost:8080/",
          "height": 402
        }
      },
      "source": [
        "import statsmodels.api as sm\n",
        "\n",
        "df = sm.datasets.get_rdataset('GaltonFamilies', package='HistData').data\n",
        "df"
      ],
      "execution_count": null,
      "outputs": [
        {
          "output_type": "execute_result",
          "data": {
            "text/html": [
              "<div>\n",
              "<style scoped>\n",
              "    .dataframe tbody tr th:only-of-type {\n",
              "        vertical-align: middle;\n",
              "    }\n",
              "\n",
              "    .dataframe tbody tr th {\n",
              "        vertical-align: top;\n",
              "    }\n",
              "\n",
              "    .dataframe thead th {\n",
              "        text-align: right;\n",
              "    }\n",
              "</style>\n",
              "<table border=\"1\" class=\"dataframe\">\n",
              "  <thead>\n",
              "    <tr style=\"text-align: right;\">\n",
              "      <th></th>\n",
              "      <th>family</th>\n",
              "      <th>father</th>\n",
              "      <th>mother</th>\n",
              "      <th>midparentHeight</th>\n",
              "      <th>children</th>\n",
              "      <th>childNum</th>\n",
              "      <th>gender</th>\n",
              "      <th>childHeight</th>\n",
              "    </tr>\n",
              "  </thead>\n",
              "  <tbody>\n",
              "    <tr>\n",
              "      <th>0</th>\n",
              "      <td>001</td>\n",
              "      <td>78.5</td>\n",
              "      <td>67.0</td>\n",
              "      <td>75.43</td>\n",
              "      <td>4</td>\n",
              "      <td>1</td>\n",
              "      <td>male</td>\n",
              "      <td>73.2</td>\n",
              "    </tr>\n",
              "    <tr>\n",
              "      <th>1</th>\n",
              "      <td>001</td>\n",
              "      <td>78.5</td>\n",
              "      <td>67.0</td>\n",
              "      <td>75.43</td>\n",
              "      <td>4</td>\n",
              "      <td>2</td>\n",
              "      <td>female</td>\n",
              "      <td>69.2</td>\n",
              "    </tr>\n",
              "    <tr>\n",
              "      <th>2</th>\n",
              "      <td>001</td>\n",
              "      <td>78.5</td>\n",
              "      <td>67.0</td>\n",
              "      <td>75.43</td>\n",
              "      <td>4</td>\n",
              "      <td>3</td>\n",
              "      <td>female</td>\n",
              "      <td>69.0</td>\n",
              "    </tr>\n",
              "    <tr>\n",
              "      <th>3</th>\n",
              "      <td>001</td>\n",
              "      <td>78.5</td>\n",
              "      <td>67.0</td>\n",
              "      <td>75.43</td>\n",
              "      <td>4</td>\n",
              "      <td>4</td>\n",
              "      <td>female</td>\n",
              "      <td>69.0</td>\n",
              "    </tr>\n",
              "    <tr>\n",
              "      <th>4</th>\n",
              "      <td>002</td>\n",
              "      <td>75.5</td>\n",
              "      <td>66.5</td>\n",
              "      <td>73.66</td>\n",
              "      <td>4</td>\n",
              "      <td>1</td>\n",
              "      <td>male</td>\n",
              "      <td>73.5</td>\n",
              "    </tr>\n",
              "    <tr>\n",
              "      <th>...</th>\n",
              "      <td>...</td>\n",
              "      <td>...</td>\n",
              "      <td>...</td>\n",
              "      <td>...</td>\n",
              "      <td>...</td>\n",
              "      <td>...</td>\n",
              "      <td>...</td>\n",
              "      <td>...</td>\n",
              "    </tr>\n",
              "    <tr>\n",
              "      <th>929</th>\n",
              "      <td>203</td>\n",
              "      <td>62.0</td>\n",
              "      <td>66.0</td>\n",
              "      <td>66.64</td>\n",
              "      <td>3</td>\n",
              "      <td>1</td>\n",
              "      <td>male</td>\n",
              "      <td>64.0</td>\n",
              "    </tr>\n",
              "    <tr>\n",
              "      <th>930</th>\n",
              "      <td>203</td>\n",
              "      <td>62.0</td>\n",
              "      <td>66.0</td>\n",
              "      <td>66.64</td>\n",
              "      <td>3</td>\n",
              "      <td>2</td>\n",
              "      <td>female</td>\n",
              "      <td>62.0</td>\n",
              "    </tr>\n",
              "    <tr>\n",
              "      <th>931</th>\n",
              "      <td>203</td>\n",
              "      <td>62.0</td>\n",
              "      <td>66.0</td>\n",
              "      <td>66.64</td>\n",
              "      <td>3</td>\n",
              "      <td>3</td>\n",
              "      <td>female</td>\n",
              "      <td>61.0</td>\n",
              "    </tr>\n",
              "    <tr>\n",
              "      <th>932</th>\n",
              "      <td>204</td>\n",
              "      <td>62.5</td>\n",
              "      <td>63.0</td>\n",
              "      <td>65.27</td>\n",
              "      <td>2</td>\n",
              "      <td>1</td>\n",
              "      <td>male</td>\n",
              "      <td>66.5</td>\n",
              "    </tr>\n",
              "    <tr>\n",
              "      <th>933</th>\n",
              "      <td>204</td>\n",
              "      <td>62.5</td>\n",
              "      <td>63.0</td>\n",
              "      <td>65.27</td>\n",
              "      <td>2</td>\n",
              "      <td>2</td>\n",
              "      <td>female</td>\n",
              "      <td>57.0</td>\n",
              "    </tr>\n",
              "  </tbody>\n",
              "</table>\n",
              "<p>934 rows × 8 columns</p>\n",
              "</div>"
            ],
            "text/plain": [
              "    family  father  mother  ...  childNum  gender  childHeight\n",
              "0      001    78.5    67.0  ...         1    male         73.2\n",
              "1      001    78.5    67.0  ...         2  female         69.2\n",
              "2      001    78.5    67.0  ...         3  female         69.0\n",
              "3      001    78.5    67.0  ...         4  female         69.0\n",
              "4      002    75.5    66.5  ...         1    male         73.5\n",
              "..     ...     ...     ...  ...       ...     ...          ...\n",
              "929    203    62.0    66.0  ...         1    male         64.0\n",
              "930    203    62.0    66.0  ...         2  female         62.0\n",
              "931    203    62.0    66.0  ...         3  female         61.0\n",
              "932    204    62.5    63.0  ...         1    male         66.5\n",
              "933    204    62.5    63.0  ...         2  female         57.0\n",
              "\n",
              "[934 rows x 8 columns]"
            ]
          },
          "metadata": {
            "tags": []
          },
          "execution_count": 54
        }
      ]
    },
    {
      "cell_type": "markdown",
      "metadata": {
        "id": "VoZJfOKOFI9U"
      },
      "source": [
        "### Types of Data\n",
        "Now, let's take a closer look at this data.  There are 933 observations, each one recording information pertaining to an individual child. The information recorded consists of the following features:\n",
        "- **family**: An identifier for the family to which the child belongs.\n",
        "- **father**: The height of the father.\n",
        "- **mother**: The height of the mother.\n",
        "- **midparentHeight**: The mid-point between the father and mother's heights (calculated as *(father + 1.08 x mother) &div; 2*)\n",
        "- **children**: The total number of children in the family.\n",
        "- **childNum**: The number of the child to whom this observation pertains (Galton numbered the children in desending order of height, with male children listed before female children)\n",
        "- **gender**: The gender of the child to whom this observation pertains.\n",
        "- **childHeight**: The height of the child to whom this observation pertains.\n",
        "\n",
        "It's worth noting that there are several distinct types of data recorded here. To begin with, there are some features that represent *qualities*, or characteristics of the child - for example, gender. Other feaures represent a *quantity* or measurement, such as the child's height. So broadly speaking, we can divide data into *qualitative* and *quantitative* data.\n",
        "\n",
        "#### Qualitative Data\n",
        "Let's take a look at qualitative data first. This type of data is categorical - it is used to categorize or identify the entity being observed. Sometimes you'll see features of this type described as *factors*. \n",
        "##### Nominal Data\n",
        "In his observations of children's height, Galton assigned an identifier to each family and he recorded the gender of each child. Note that even though the **family** identifier is a number, it is not a measurement or quantity. Family 002 it not \"greater\" than family 001, just as a **gender** value of \"male\" does not indicate a larger or smaller value than \"female\". These are simply named values for some characteristic of the child, and as such they're known as *nominal* data.\n",
        "##### Ordinal Data\n",
        "What about the **childNum** feature? It's not a measurement or quantity - it's just a way to identify individual children within a family. However, the number assigned to each child has some additional meaning - the numbers are ordered. You can find similar data that is text-based; for example, data about training courses might include a \"level\" attribute that indicates the level of the course as \"basic:, \"intermediate\", or \"advanced\". This type of data, where the value is not itself a quantity or measurement, but it indicates some sort of inherent order or heirarchy, is known as *ordinal* data.\n",
        "#### Quantitative Data\n",
        "There are some kind of quantity or measurement: \n",
        "##### Discrete Data\n",
        "Galton's observations include the number of **children** in each family. This is a *discrete* quantative data value - it's something we *count* rather than *measure*. You can't, for example, have 2.33 children!\n",
        "##### Continuous Data\n",
        "The data set also includes height values for **father**, **mother**, **midparentHeight**, and **childHeight**. These are measurements along a scale, and as such they're described as *continuous* quantative data values that we *measure* rather than *count*.\n",
        "\n",
        "### Sample vs Population\n",
        "Galton's dataset includes 933 observations. It's safe to assume that this does not account for every person in the world, or even just the UK, in 1886 when the data was collected. In other words, Galton's data represents a *sample* of a larger *population*. It's worth pausing to think about this for a few seconds, because there are some implications for any conclusions we might draw from Galton's observations.\n",
        "\n",
        "Think about how many times you see a claim such as \"one in four Americans enjoys watching football\". How do the people who make this claim know that this is a fact? Have they asked everyone in the the US about their football-watching habits? Well, that would be a bit impractical, so what usually happens is that a study is conducted on a subset of the population, and (assuming that this is a well-conducted study), that subset will be a representative sample of the population as a whole. If the survey was conducted at the stadium where the Superbowl is being played, then the results are likely to be skewed because of a bias in the study participants.\n",
        "\n",
        "Similarly, we might look at Galton's data and assume that the heights of the people included in the study bears some relation to the heights of the general population in 1886; but if Galton specifically selected abnormally tall people for his study, then this assumption would be unfounded.\n",
        "\n",
        "When we deal with statistics, we usually work with a sample of the data rather than a full population. "
      ]
    },
    {
      "cell_type": "markdown",
      "metadata": {
        "id": "YYk8k8q_Gdht"
      },
      "source": [
        "\n",
        "\n",
        "\n",
        "\n",
        "\n",
        "#13. Write a Python code to create a bar chart showing the number of children of each gender "
      ]
    },
    {
      "cell_type": "code",
      "metadata": {
        "id": "1jWgnT3jthvl",
        "outputId": "6217945e-28e6-4623-e335-559f58e72194",
        "colab": {
          "base_uri": "https://localhost:8080/",
          "height": 87
        }
      },
      "source": [
        "df.groupby(df['gender'])['children'].count()"
      ],
      "execution_count": null,
      "outputs": [
        {
          "output_type": "execute_result",
          "data": {
            "text/plain": [
              "gender\n",
              "female    453\n",
              "male      481\n",
              "Name: children, dtype: int64"
            ]
          },
          "metadata": {
            "tags": []
          },
          "execution_count": 55
        }
      ]
    },
    {
      "cell_type": "code",
      "metadata": {
        "id": "JVoSddixGqcK",
        "outputId": "5cf20f12-5b08-4a81-d00b-a18b429b50f9",
        "colab": {
          "base_uri": "https://localhost:8080/",
          "height": 281
        }
      },
      "source": [
        "#Your code of Quesiton 13 should appear here\n",
        "%matplotlib inline\n",
        "\n",
        "from matplotlib import pyplot as plt\n",
        "import numpy as np\n",
        "\n",
        "gender_count=df.groupby(df['gender'])['children'].count()\n",
        "\n",
        "label = list(set(df['gender']))\n",
        "index = np.arange(len(label))\n",
        "\n",
        "plt.bar(index, gender_count,color='purple')\n",
        "plt.xlabel('gender')\n",
        "plt.ylabel('the number of children')\n",
        "plt.xticks(index, label)\n",
        "plt.show()"
      ],
      "execution_count": null,
      "outputs": [
        {
          "output_type": "display_data",
          "data": {
            "image/png": "[encoded data removed]",
            "text/plain": [
              "<Figure size 432x288 with 1 Axes>"
            ]
          },
          "metadata": {
            "tags": [],
            "needs_background": "light"
          }
        }
      ]
    },
    {
      "cell_type": "markdown",
      "metadata": {
        "id": "_VZ-bfclGxXk"
      },
      "source": [
        "\n",
        "\n",
        "---\n",
        "\n"
      ]
    },
    {
      "cell_type": "markdown",
      "metadata": {
        "id": "y1hnGGn-GzL6"
      },
      "source": [
        "## 14. Write a Python code to create a bar chart showing family counts based on the number of children in the family. "
      ]
    },
    {
      "cell_type": "code",
      "metadata": {
        "id": "A_Ec2x6HFA4W",
        "outputId": "9e6c3e32-8e69-4303-b00a-df982b420d87",
        "colab": {
          "base_uri": "https://localhost:8080/",
          "height": 263
        }
      },
      "source": [
        "import pandas as pd\n",
        "\n",
        "df1=df.drop_duplicates('family') # As family ID is duplicated, we should remove the duplicated rows like this\n",
        "df1.groupby(df['children'])['gender'].count()"
      ],
      "execution_count": null,
      "outputs": [
        {
          "output_type": "execute_result",
          "data": {
            "text/plain": [
              "children\n",
              "1     33\n",
              "2     23\n",
              "3     22\n",
              "4     31\n",
              "5     28\n",
              "6     18\n",
              "7     17\n",
              "8     17\n",
              "9      7\n",
              "10     4\n",
              "11     4\n",
              "15     1\n",
              "Name: gender, dtype: int64"
            ]
          },
          "metadata": {
            "tags": []
          },
          "execution_count": 57
        }
      ]
    },
    {
      "cell_type": "code",
      "metadata": {
        "id": "VVkg8tWsHROr",
        "outputId": "f3802039-1930-446f-9e9a-06ed57f848a5",
        "colab": {
          "base_uri": "https://localhost:8080/",
          "height": 279
        }
      },
      "source": [
        "%matplotlib inline\n",
        "\n",
        "from matplotlib import pyplot as plt\n",
        "import numpy as np\n",
        "children_count=df1.groupby(df['children'])['gender'].count()\n",
        "\n",
        "label = list(set(df1['children']))\n",
        "index = np.arange(len(label))\n",
        "\n",
        "plt.bar(index, children_count,color='pink')\n",
        "plt.xlabel('the number of children')\n",
        "plt.ylabel('family counts')\n",
        "plt.xticks(index, label)\n",
        "plt.show()"
      ],
      "execution_count": null,
      "outputs": [
        {
          "output_type": "display_data",
          "data": {
            "image/png": "[encoded data removed]",
            "text/plain": [
              "<Figure size 432x288 with 1 Axes>"
            ]
          },
          "metadata": {
            "tags": [],
            "needs_background": "light"
          }
        }
      ]
    },
    {
      "cell_type": "markdown",
      "metadata": {
        "id": "mSfw9H2iHCvB"
      },
      "source": [
        "\n",
        "\n",
        "---\n",
        "\n"
      ]
    },
    {
      "cell_type": "markdown",
      "metadata": {
        "id": "Lw2_olV9HGD4"
      },
      "source": [
        "##15. Write a Python code to create a histogram of the father values in the Galton dataset, which record the father's height"
      ]
    },
    {
      "cell_type": "code",
      "metadata": {
        "id": "UPomkVpAFBvl",
        "outputId": "8c326fe6-81ca-4f43-a051-93e99f09b47c",
        "colab": {
          "base_uri": "https://localhost:8080/",
          "height": 279
        }
      },
      "source": [
        "#Your code of question 15 should appear here \n",
        "%matplotlib inline\n",
        "\n",
        "df2=df.drop_duplicates('family') #Also need to remove the duplicated rows\n",
        "\n",
        "from matplotlib import pyplot as plt\n",
        "import numpy as np\n",
        "\n",
        "plt.hist(df2['father'],color='green')\n",
        "plt.xlabel('height (father)')\n",
        "plt.ylabel('number (father)')\n",
        "plt.show()"
      ],
      "execution_count": null,
      "outputs": [
        {
          "output_type": "display_data",
          "data": {
            "image/png": "[encoded data removed]",
            "text/plain": [
              "<Figure size 432x288 with 1 Axes>"
            ]
          },
          "metadata": {
            "tags": [],
            "needs_background": "light"
          }
        }
      ]
    },
    {
      "cell_type": "markdown",
      "metadata": {
        "id": "iDzhCHLJHW5G"
      },
      "source": [
        "\n",
        "\n",
        "---\n",
        "\n"
      ]
    },
    {
      "cell_type": "markdown",
      "metadata": {
        "id": "9_VF6L0lHYXT"
      },
      "source": [
        "##16. Write a Python code creates a scatter plot that plots the intersection points for midparentHeight on the x axis and childHeight on the y axis"
      ]
    },
    {
      "cell_type": "code",
      "metadata": {
        "id": "XJseX2XzHszf",
        "outputId": "01d81770-732e-400d-d5f6-7d13d24810d5",
        "colab": {
          "base_uri": "https://localhost:8080/",
          "height": 282
        }
      },
      "source": [
        "#your code of Question 16 should appear here \n",
        "%matplotlib inline\n",
        "\n",
        "from matplotlib import pyplot as plt\n",
        "import numpy as np\n",
        "\n",
        "plt.scatter(df['midparentHeight'],df['childHeight'])\n",
        "plt.xlabel('midparentHeight')\n",
        "plt.ylabel('childHeight')\n",
        "plt.show()"
      ],
      "execution_count": null,
      "outputs": [
        {
          "output_type": "display_data",
          "data": {
            "image/png": "[encoded data removed]",
            "text/plain": [
              "<Figure size 432x288 with 1 Axes>"
            ]
          },
          "metadata": {
            "tags": [],
            "needs_background": "light"
          }
        }
      ]
    },
    {
      "cell_type": "markdown",
      "metadata": {
        "id": "tCBMncOYHwVY"
      },
      "source": [
        "\n",
        "\n",
        "---\n",
        "\n"
      ]
    },
    {
      "cell_type": "markdown",
      "metadata": {
        "id": "hwpoqVI0Iys_"
      },
      "source": [
        "# Probability\n",
        "Many of the problems we try to solve using statistics are to do with *probability*. For example, what's the probable salary for a Data Science graduate who scored a given score in their final exam at school? \n",
        "\n",
        "\n",
        "## Probability Basics\n",
        "There are some basic definitions and principles.\n",
        "- An ***experiment*** or ***trial*** is an action with an uncertain outcome, such as tossing a coin.\n",
        "- A ***sample space*** is the set of all possible outcomes of an experiment. In a coin toss, there's a set of two possible oucomes (*heads* and *tails*).\n",
        "- A ***sample point*** is a single possible outcome - for example, *heads*)\n",
        "- An ***event*** is a specific outome of single instance of an experiment - for example, tossing a coin and getting *tails*.\n",
        "- ***Probability*** is a value between 0 and 1 that indicates the likelihood of a particular event, with 0 meaning that the event is impossible, and 1 meaning that the event is inevitable. In general terms, it's calculated like this:\n",
        "\n",
        "\\begin{equation}\\text{probability of an event} = \\frac{\\text{Number of sample points that produce the event}}{\\text{Total number of sample points in the sample space}} \\end{equation}\n",
        "\n",
        "For example, the probability of getting *heads* when tossing as coin is <sup>1</sup>/<sub>2</sub> - there is only one side of the coin that is designated *heads*. and there are two possible outcomes in the sample space (*heads* and *tails*). So the probability of getting *heads* in a single coin toss is 0.5 (or 50% when expressed as a percentage).\n",
        "\n",
        "### The Complement of an Event\n",
        "The *complement* of an event is the set of *sample points* that do ***not*** result in the event.\n",
        "\n",
        "For example, suppose your local weather forecaster indicates the predominant weather for each day of the week like this:\n",
        "\n",
        "<table>\n",
        "<tr><td style='text-align:center'>Mon</td><td style='text-align:center'>Tue</td><td style='text-align:center'>Wed</td><td style='text-align:center'>Thu</td><td style='text-align:center'>Fri</td><td style='text-align:center'>Sat</td><td style='text-align:center'>Sun</td></tr>\n",
        "<tr style='font-size:32px'><td>&#9729;</td><td>&#9730;</td><td>&#9728;</td><td>&#9728;</td><td>&#9728;</td><td>&#9729;</td><td>&#9728;</td></tr>\n",
        "</table>\n",
        "\n",
        "If you would like to find the probability of \"Not Sunny days, you should find the probability of \"Sunny days\" first and the applies the following complement of event,  \n",
        "\n",
        "\\begin{equation}P(A) = 1 - P(A') \\end{equation}\n",
        ", which results in\n",
        "\\begin{equation}P(A') = 1- P(A) = 1 - (4/7) chance of it not being sunny!"
      ]
    },
    {
      "cell_type": "markdown",
      "metadata": {
        "id": "t_6TeOsZI7K6"
      },
      "source": [
        "## Conditional Probability and Dependence\n",
        "Events can be:\n",
        "- *Independent* (events that are not affected by other events)\n",
        "- *Dependent* (events that are conditional on other events)\n",
        "- *Mutually Exclusive* (events that can't occur together)\n",
        "\n",
        "### Independent Events\n",
        "Imagine you toss a coin. The sample space contains two possible outomes: heads or tails. \n",
        "The probability of getting *heads* is <sup>1</sup>/<sub>2</sub>, and the probability of getting *tails* is also <sup>1</sup>/<sub>2</sub>. \n",
        "\n",
        "Run the following Python code to simulate 10,000 coin tosses by assigning a random value of 0 or 1 to *heads* and *tails*. Each time the coin is tossed, the probability of getting *heads* or *tails* is 50%, so you should expect approximately half of the results to be *heads* and half to be *tails* (it won't be exactly half, due to a little random variation; but it should be close):"
      ]
    },
    {
      "cell_type": "code",
      "metadata": {
        "id": "Pkla8oSgLD2k",
        "outputId": "d0b72a4d-2736-4bdf-891b-db7371b34a17",
        "colab": {
          "base_uri": "https://localhost:8080/",
          "height": 321
        }
      },
      "source": [
        "%matplotlib inline\n",
        "import random\n",
        "\n",
        "# Create a list with 2 element (for heads and tails)\n",
        "heads_tails = [0,0]\n",
        "\n",
        "# loop through 10000 trials\n",
        "trials = 10000\n",
        "trial = 0\n",
        "while trial < trials:\n",
        "    trial = trial + 1\n",
        "    # Get a random 0 or 1\n",
        "    toss = random.randint(0,1)\n",
        "    # Increment the list element corresponding to the toss result\n",
        "    heads_tails[toss] = heads_tails[toss] + 1\n",
        "\n",
        "print (heads_tails)\n",
        "\n",
        "# Show a pie chart of the results\n",
        "from matplotlib import pyplot as plt\n",
        "plt.figure(figsize=(5,5))\n",
        "plt.pie(heads_tails, labels=['heads', 'tails'])\n",
        "plt.legend()\n",
        "plt.show()"
      ],
      "execution_count": null,
      "outputs": [
        {
          "output_type": "stream",
          "text": [
            "[5108, 4892]\n"
          ],
          "name": "stdout"
        },
        {
          "output_type": "display_data",
          "data": {
            "image/png": "[encoded data removed]",
            "text/plain": [
              "<Figure size 360x360 with 1 Axes>"
            ]
          },
          "metadata": {
            "tags": []
          }
        }
      ]
    },
    {
      "cell_type": "markdown",
      "metadata": {
        "id": "KN9ZMjMJLdsO"
      },
      "source": [
        "Now, imagine that you need to create a new game that mixes the excitment of coin-tossing with the thrill of die-rolling! The objective of the game is to roll a die and get 6, and toss a coin and get heads. On each turn of the game, a player rolls the die and tosses the coin, in sequence (in a row). \n",
        "\n",
        "###How can we calculate the probability of winning?\n",
        "\n",
        "There are two independent events required to win: a die-roll of *6* (which we'll call event **A**), and a coin-toss of *heads* (which we'll call event **B**)\n",
        "\n",
        "Our formula for combined independent events is:\n",
        "\n",
        "\\begin{equation}P(A \\cap B) = P(A) \\times P(B) \\end{equation}\n",
        "\n",
        "The probablilty of rolling a *6* on a fair die is <sup>1</sup>/<sub>6</sub> or 0.167;  and the probability of tossing a coin and getting *heads* is <sup>1</sup>/<sub>2</sub> or 0.5:\n",
        "\n",
        "\\begin{equation}P(A \\cap B) = 0.167 \\times 0.5 = 0.083 \\end{equation}\n",
        "\n",
        "So on each turn, there's an 8.3% chance to win the game."
      ]
    },
    {
      "cell_type": "markdown",
      "metadata": {
        "id": "45rRFyh7MJbs"
      },
      "source": [
        "#17. Write a Python code that calculates when you know you get 6 from your first rolling-dice, how much you would increase your winning probability from 0.083"
      ]
    },
    {
      "cell_type": "code",
      "metadata": {
        "id": "aVIjPWmBijLW",
        "outputId": "73d22d77-cb93-403e-f04f-695e4de1c1ec",
        "colab": {
          "base_uri": "https://localhost:8080/",
          "height": 52
        }
      },
      "source": [
        "import random\n",
        "from sympy import *\n",
        "A=Symbol('A')\n",
        "B=Symbol('B')\n",
        "\n",
        "#rolling dice\n",
        "dice=[0,0,0,0,0,0]\n",
        "\n",
        "rolls=10000\n",
        "roll=0\n",
        "\n",
        "while roll<rolls:\n",
        "  roll=roll+1\n",
        "  throw = random.randint(0,5)\n",
        "  dice[throw] = dice[throw] +1\n",
        "total_dice=sum(dice)\n",
        "\n",
        "# throwing coin\n",
        "heads_tails = [0,0]\n",
        "\n",
        "trials = 10000\n",
        "trial = 0\n",
        "while trial < trials:\n",
        "    trial = trial + 1\n",
        "    toss = random.randint(0,1)\n",
        "    heads_tails[toss] = heads_tails[toss] + 1\n",
        "\n",
        "total_heads_tails=sum(heads_tails)\n",
        "\n",
        "def PA():\n",
        "  return dice[5]/total_dice\n",
        "print(PA())\n",
        "\n",
        "def PB():\n",
        "  return heads_tails[0]/total_heads_tails\n",
        "print(PB())"
      ],
      "execution_count": null,
      "outputs": [
        {
          "output_type": "stream",
          "text": [
            "0.1666\n",
            "0.491\n"
          ],
          "name": "stdout"
        }
      ]
    },
    {
      "cell_type": "code",
      "metadata": {
        "id": "goiUwVfulA0r",
        "outputId": "0fffc71c-a500-4c21-b8aa-aa83f1876e89",
        "colab": {
          "base_uri": "https://localhost:8080/",
          "height": 70
        }
      },
      "source": [
        "both_win = PA() * PB()\n",
        "print(both_win)\n",
        "\n",
        "after_6_win = PA()*PB()/PA()\n",
        "print(after_6_win)\n",
        "\n",
        "increase=(after_6_win)-(both_win)\n",
        "print(increase)"
      ],
      "execution_count": null,
      "outputs": [
        {
          "output_type": "stream",
          "text": [
            "0.0818006\n",
            "0.491\n",
            "0.4091994\n"
          ],
          "name": "stdout"
        }
      ]
    },
    {
      "cell_type": "markdown",
      "metadata": {
        "id": "KTwdbWWPNhv7"
      },
      "source": [
        "\n",
        "\n",
        "\n",
        "---\n",
        "\n"
      ]
    },
    {
      "cell_type": "markdown",
      "metadata": {
        "id": "uON9ba27NjOK"
      },
      "source": [
        "As the final question, the following table contains the different age group peoples who have defaulted and not defaulted on Loans: \n",
        "![Table1](https://miro.medium.com/max/1400/0*L4XpVZ-5jaHBrl3p.png)\n",
        "\n",
        "#18-1. Write a Python code to calculate the probability that a person will not default on the loan given s/he is middle aged? \n",
        "\n",
        "#18-2. Write a Python code to calculate the probability that a person is middle-aged given s/he has not defaulted on the loan? "
      ]
    },
    {
      "cell_type": "code",
      "metadata": {
        "id": "tOIU9a7OzMaE",
        "outputId": "c095e3fa-d5ac-4e62-9a3e-57f9be30af60",
        "colab": {
          "base_uri": "https://localhost:8080/",
          "height": 136
        }
      },
      "source": [
        "#Your code of 18-1 should appear here\n",
        "from pandas import DataFrame as df\n",
        "\n",
        "df3=df(data={'Young':[10503,3586],'Middle-Aged':[27368,4851],'Senior Citizens':[259,120]},columns=['Young','Middle-Aged','Senior Citizens'],index=['No','Yes'])\n",
        "df3.loc['total']=[df3['Young'].sum(),df3['Middle-Aged'].sum(),df3['Senior Citizens'].sum()]\n",
        "df3['total']=[df3.loc[\"No\"].sum(),df3.loc[\"Yes\"].sum(),df3.loc[\"total\"].sum()]\n",
        "df3"
      ],
      "execution_count": null,
      "outputs": [
        {
          "output_type": "execute_result",
          "data": {
            "text/html": [
              "<div>\n",
              "<style scoped>\n",
              "    .dataframe tbody tr th:only-of-type {\n",
              "        vertical-align: middle;\n",
              "    }\n",
              "\n",
              "    .dataframe tbody tr th {\n",
              "        vertical-align: top;\n",
              "    }\n",
              "\n",
              "    .dataframe thead th {\n",
              "        text-align: right;\n",
              "    }\n",
              "</style>\n",
              "<table border=\"1\" class=\"dataframe\">\n",
              "  <thead>\n",
              "    <tr style=\"text-align: right;\">\n",
              "      <th></th>\n",
              "      <th>Young</th>\n",
              "      <th>Middle-Aged</th>\n",
              "      <th>Senior Citizens</th>\n",
              "      <th>total</th>\n",
              "    </tr>\n",
              "  </thead>\n",
              "  <tbody>\n",
              "    <tr>\n",
              "      <th>No</th>\n",
              "      <td>10503</td>\n",
              "      <td>27368</td>\n",
              "      <td>259</td>\n",
              "      <td>38130</td>\n",
              "    </tr>\n",
              "    <tr>\n",
              "      <th>Yes</th>\n",
              "      <td>3586</td>\n",
              "      <td>4851</td>\n",
              "      <td>120</td>\n",
              "      <td>8557</td>\n",
              "    </tr>\n",
              "    <tr>\n",
              "      <th>total</th>\n",
              "      <td>14089</td>\n",
              "      <td>32219</td>\n",
              "      <td>379</td>\n",
              "      <td>46687</td>\n",
              "    </tr>\n",
              "  </tbody>\n",
              "</table>\n",
              "</div>"
            ],
            "text/plain": [
              "       Young  Middle-Aged  Senior Citizens  total\n",
              "No     10503        27368              259  38130\n",
              "Yes     3586         4851              120   8557\n",
              "total  14089        32219              379  46687"
            ]
          },
          "metadata": {
            "tags": []
          },
          "execution_count": 64
        }
      ]
    },
    {
      "cell_type": "code",
      "metadata": {
        "id": "0g24hfvQ9viE",
        "outputId": "471d6add-2cf4-4350-abd3-6771150e4305",
        "colab": {
          "base_uri": "https://localhost:8080/",
          "height": 34
        }
      },
      "source": [
        "PC = df3.loc['total',\"Middle-Aged\"]/df3.loc['total','total']\n",
        "PD = df3.loc['No','Middle-Aged']/df3.loc['total','total']\n",
        "\n",
        "def conditional(P1,P2):\n",
        "  return P1/P2\n",
        "\n",
        "conditional(PD,PC)"
      ],
      "execution_count": null,
      "outputs": [
        {
          "output_type": "execute_result",
          "data": {
            "text/plain": [
              "0.8494366678047115"
            ]
          },
          "metadata": {
            "tags": []
          },
          "execution_count": 65
        }
      ]
    },
    {
      "cell_type": "code",
      "metadata": {
        "id": "fYl0jUqIOY3D",
        "outputId": "9bbe7060-130a-48fa-ac78-d67a1da4b932",
        "colab": {
          "base_uri": "https://localhost:8080/",
          "height": 34
        }
      },
      "source": [
        "#Your code of 18-2 should appear here\n",
        "\n",
        "PE = df3.loc['No',\"total\"]/df3.loc['total','total']\n",
        "PD = df3.loc['No','Middle-Aged']/df3.loc['total','total']\n",
        "\n",
        "conditional(PD,PE)"
      ],
      "execution_count": null,
      "outputs": [
        {
          "output_type": "execute_result",
          "data": {
            "text/plain": [
              "0.7177550485182271"
            ]
          },
          "metadata": {
            "tags": []
          },
          "execution_count": 66
        }
      ]
    }
  ]
}